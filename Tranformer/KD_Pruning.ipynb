{
 "cells": [
  {
   "cell_type": "code",
   "execution_count": 1,
   "id": "3ae24a5d",
   "metadata": {},
   "outputs": [],
   "source": [
    "import math\n",
    "import csv\n",
    "import time\n",
    "from collections import Counter\n",
    "from tqdm import tqdm\n",
    "from typing import Optional, Tuple\n",
    "import numpy as np\n",
    "\n",
    "import torch\n",
    "import torch.nn as nn\n",
    "import torchtext\n",
    "from torch import Tensor\n",
    "\n",
    "import matplotlib.pyplot as plt\n",
    "from collections import OrderedDict\n",
    "\n",
    "from utils import *\n",
    "from MultiheadAttention import *"
   ]
  },
  {
   "cell_type": "markdown",
   "id": "bc58424e",
   "metadata": {},
   "source": [
    "加工済みの WMT16 (de->en) を読み込みます．\n",
    "関数の詳細は utils.py を参照してください．\n",
    "- WMT16 の加工は別プログラムで実行（気が向いたときに説明を記載します）\n",
    "\n",
    "実行内容\n",
    "- CSV ファイルからデータセットを読み込む\n",
    "- トークナイズ\n",
    "- ボキャブラリー統計\n",
    "- データローダの作成\n",
    "完了まで約５分くらかかります．"
   ]
  },
  {
   "cell_type": "code",
   "execution_count": 2,
   "id": "ccd57a10",
   "metadata": {
    "scrolled": true
   },
   "outputs": [
    {
     "name": "stderr",
     "output_type": "stream",
     "text": [
      "4165231it [00:30, 136347.49it/s]\n",
      "4165113it [00:31, 130167.90it/s]\n",
      "2169it [00:00, 287375.47it/s]\n",
      "2169it [00:00, 278635.39it/s]\n",
      "100%|█████████████████████████████████████████████████████████████████████| 4165113/4165113 [00:18<00:00, 219235.45it/s]\n",
      "100%|█████████████████████████████████████████████████████████████████████| 4165231/4165231 [00:18<00:00, 225944.71it/s]\n",
      "4165113it [03:27, 20037.50it/s]\n",
      "2169it [00:00, 23284.87it/s]\n"
     ]
    }
   ],
   "source": [
    "en_train_path = '../Datasets/custom_wmt16/train_en.csv'\n",
    "de_train_path = '../Datasets/custom_wmt16/train_de.csv'\n",
    "\n",
    "en_valid_path = '../Datasets/custom_wmt16/val_en.csv'\n",
    "de_valid_path = '../Datasets/custom_wmt16/val_de.csv'\n",
    "\n",
    "en_train_data = load_data(en_train_path)\n",
    "de_train_data = load_data(de_train_path)\n",
    "\n",
    "en_valid_data = load_data(en_valid_path)\n",
    "de_valid_data = load_data(de_valid_path)\n",
    "\n",
    "tokenizer_de = torchtext.data.utils.get_tokenizer('spacy', language='de_core_news_sm')\n",
    "tokenizer_en = torchtext.data.utils.get_tokenizer('spacy', language='en_core_web_sm')\n",
    "\n",
    "vocab_de = build_vocab(de_train_data)\n",
    "vocab_en = build_vocab(en_train_data)\n",
    "vocab_de.set_default_index(vocab_de['<unk>'])\n",
    "vocab_en.set_default_index(vocab_en['<unk>'])\n",
    "\n",
    "train_data = data_process(\n",
    "    texts_src=de_train_data, texts_tgt=en_train_data,\n",
    "    vocab_src=vocab_de, vocab_tgt=vocab_en\n",
    ")\n",
    "\n",
    "valid_data = data_process(\n",
    "    texts_src=de_valid_data, texts_tgt=en_valid_data,\n",
    "    vocab_src=vocab_de, vocab_tgt=vocab_en\n",
    ")\n",
    "\n",
    "batch_size = 16\n",
    "PAD_IDX = vocab_de['<pad>']\n",
    "START_IDX = vocab_de['<start>']\n",
    "END_IDX = vocab_de['<end>']\n",
    "\n",
    "train_loader = torch.utils.data.DataLoader(train_data, batch_size=batch_size, shuffle=True, collate_fn=batch_generator)\n",
    "valid_loader = torch.utils.data.DataLoader(valid_data, batch_size=batch_size, shuffle=True, collate_fn=batch_generator)"
   ]
  },
  {
   "cell_type": "markdown",
   "id": "9d57f017",
   "metadata": {},
   "source": [
    "エンコーダとデコーダの class です．\n",
    "gate を付与しているため，L0 正則化を掛けるとゲートを減らせます．\n",
    "- 詳細は下の学習時に説明"
   ]
  },
  {
   "cell_type": "code",
   "execution_count": 3,
   "id": "4e0b701b",
   "metadata": {},
   "outputs": [],
   "source": [
    "class TransformerEncoderLayer(nn.Module):\n",
    "    def __init__(self, d_model=512, dim_feedforward=2048, dropout=0.1):\n",
    "        super(TransformerEncoderLayer, self).__init__()\n",
    "        \n",
    "        self.self_attn = MultiheadAttention(d_model, num_heads=8, dropout=dropout)\n",
    "        self.linear1 = nn.Linear(d_model, dim_feedforward)\n",
    "        self.dropout = nn.Dropout(dropout)\n",
    "        self.linear2 = nn.Linear(dim_feedforward, d_model)\n",
    "        \n",
    "        self.norm1 = nn.LayerNorm(d_model, eps=1e-5)\n",
    "        self.norm2 = nn.LayerNorm(d_model, eps=1e-5)\n",
    "        self.dropout1 = nn.Dropout(dropout)\n",
    "        self.dropout2 = nn.Dropout(dropout)\n",
    "        \n",
    "        self.activation = nn.functional.relu\n",
    "        \n",
    "    def forward(self, src, src_mask, src_padding_mask):\n",
    "        x = src\n",
    "        \n",
    "        x_, L0_loss = self._sa_block(x, src_mask, src_padding_mask)\n",
    "        x = self.norm1(x + x_)\n",
    "        x = self.norm2(x + self._ff_blck(x))\n",
    "        \n",
    "        return x, L0_loss\n",
    "        \n",
    "    def _sa_block(self, x, attn_mask, key_padding_mask):\n",
    "        x, attn_map, L0_loss = self.self_attn(x, x, x, attn_mask=attn_mask, key_padding_mask=key_padding_mask)\n",
    "        self.attention_map = attn_map.detach()\n",
    "        \n",
    "        return self.dropout1(x), L0_loss\n",
    "    \n",
    "    def _ff_blck(self, x):\n",
    "        x = self.linear2(self.dropout(self.activation(self.linear1(x))))\n",
    "        return self.dropout2(x)\n",
    "\n",
    "class TransformerEncoder(nn.Module):\n",
    "    def __init__(self, num_layers = 6, dim_feedforward=2048):\n",
    "        super(TransformerEncoder, self).__init__()\n",
    "        \n",
    "        self.layers = nn.ModuleList([TransformerEncoderLayer() for i in range(num_layers)])\n",
    "        self.self_attns = []\n",
    "        \n",
    "    def forward(self, src, src_mask, src_padding_mask):\n",
    "        self.self_attns = []\n",
    "        output = src\n",
    "        \n",
    "        for i, layer in enumerate(self.layers):\n",
    "            output, L0_loss = layer(output, src_mask, src_padding_mask)\n",
    "            self.self_attns.append(layer.attention_map)\n",
    "        \n",
    "        return output, L0_loss\n",
    "\n",
    "class Transformer_Encoder(nn.Module):\n",
    "    def __init__(\n",
    "        self, embedding_size, vocab_size_src, dropout=0.1\n",
    "    ):\n",
    "        super(Transformer_Encoder, self).__init__()\n",
    "        self.token_embedding_src = TokenEmbedding(vocab_size_src, embedding_size)\n",
    "        self.positional_encoding = PositionalEncoding(embedding_size, dropout=dropout)\n",
    "        \n",
    "        self.transformer_encoder = TransformerEncoder()\n",
    "        \n",
    "    def forward(self, src, mask_src, padding_mask_src):\n",
    "        embedding_src = self.positional_encoding(self.token_embedding_src(src))\n",
    "        memory, L0_loss = self.transformer_encoder(embedding_src, mask_src, padding_mask_src)\n",
    "        \n",
    "        return memory, L0_loss"
   ]
  },
  {
   "cell_type": "code",
   "execution_count": 4,
   "id": "101e3b80",
   "metadata": {},
   "outputs": [],
   "source": [
    "class TransformerDecoderLayer(nn.Module):\n",
    "    def __init__(self, d_model=512, dim_feedforward=2048, dropout=0.1):\n",
    "        super(TransformerDecoderLayer, self).__init__()\n",
    "        \n",
    "        self.self_attn = MultiheadAttention(d_model, num_heads=8, dropout=dropout)\n",
    "        self.multihead_attn = MultiheadAttention(d_model, num_heads=8, dropout=dropout)\n",
    "        \n",
    "        self.linear1 = nn.Linear(d_model, dim_feedforward)\n",
    "        self.dropout = nn.Dropout(dropout)\n",
    "        self.linear2 = nn.Linear(dim_feedforward, d_model)\n",
    "        \n",
    "        self.norm1 = nn.LayerNorm(d_model, eps=1e-5)\n",
    "        self.norm2 = nn.LayerNorm(d_model, eps=1e-5)\n",
    "        self.norm3 = nn.LayerNorm(d_model, eps=1e-5)\n",
    "        \n",
    "        self.dropout1 = nn.Dropout(dropout)\n",
    "        self.dropout2 = nn.Dropout(dropout)\n",
    "        self.dropout3 = nn.Dropout(dropout)\n",
    "        \n",
    "        self.activation = nn.functional.relu\n",
    "        \n",
    "    def forward(self, tgt, memory, tgt_mask, memory_mask, tgt_key_padding_mask, memory_key_padding_mask):\n",
    "        x = tgt\n",
    "        \n",
    "        x_, L0_loss = self._sa_block(x, tgt_mask, tgt_key_padding_mask)\n",
    "        x = self.norm1(x + x_)\n",
    "        \n",
    "        x_, L0_loss2 = self._mha_block(x, memory, memory_mask, memory_key_padding_mask)\n",
    "        x = self.norm2(x + x_)\n",
    "        x = self.norm3(x + self._ff_block(x))\n",
    "        \n",
    "        return x, L0_loss+L0_loss2\n",
    "    \n",
    "    def _sa_block(self, x, attn_mask, key_padding_mask):\n",
    "        x, attn_map, L0_loss = self.self_attn(x, x, x,\n",
    "                           attn_mask=attn_mask,\n",
    "                           key_padding_mask=key_padding_mask,\n",
    "                          )\n",
    "        \n",
    "        self.attention_map = attn_map.detach()\n",
    "        \n",
    "        return self.dropout1(x), L0_loss\n",
    "    \n",
    "    def _mha_block(self, x, mem, attn_mask, key_padding_mask):\n",
    "        x, attn_map, L0_loss = self.multihead_attn(x, mem, mem, \n",
    "                                attn_mask=attn_mask, \n",
    "                                key_padding_mask=key_padding_mask)\n",
    "        self.attention_map2 = attn_map.detach()\n",
    "        return self.dropout2(x), L0_loss\n",
    "    \n",
    "    def _ff_block(self, x):\n",
    "        x = self.linear2(self.dropout(self.activation(self.linear1(x))))\n",
    "        return self.dropout3(x)\n",
    "    \n",
    "class TransformerDecoder(nn.Module):\n",
    "    def __init__(self, num_layers=6, dim_feedforward=2048):\n",
    "        super(TransformerDecoder, self).__init__()\n",
    "        \n",
    "        self.layers = nn.ModuleList([TransformerDecoderLayer() for i in range(num_layers)])\n",
    "        self.self_attns = []\n",
    "        self.self_attns2 = []\n",
    "    \n",
    "    def forward(self, tgt, memory, tgt_mask, memory_mask, tgt_key_padding_mask, memory_key_padding_mask):\n",
    "        self.self_attns = []\n",
    "        self.self_attns2 = []\n",
    "        \n",
    "        output = tgt\n",
    "        \n",
    "        for i, mod in enumerate(self.layers):\n",
    "            output, L0_loss = mod(output, memory, tgt_mask,\n",
    "                         memory_mask,\n",
    "                         tgt_key_padding_mask,\n",
    "                         memory_key_padding_mask)\n",
    "            self.self_attns.append(mod.attention_map)\n",
    "            self.self_attns2.append(mod.attention_map2)\n",
    "            \n",
    "        return output, L0_loss\n",
    "    \n",
    "class Transformer_Decoder(nn.Module):\n",
    "    def __init__(\n",
    "        self, embedding_size, vocab_size_tgt, dropout=0.1\n",
    "    ):\n",
    "        super(Transformer_Decoder, self).__init__()\n",
    "        \n",
    "        self.token_embedding_tgt = TokenEmbedding(vocab_size_tgt, embedding_size)\n",
    "        self.positional_encoding = PositionalEncoding(embedding_size, dropout=dropout)\n",
    "        \n",
    "        self.transformer_decoder = TransformerDecoder()\n",
    "    \n",
    "    def forward(self, tgt, memory, mask_tgt, padding_mask_tgt, memory_key_padding_mask):\n",
    "        embedding_tgt = self.positional_encoding(self.token_embedding_tgt(tgt))\n",
    "        outs, L0_loss = self.transformer_decoder(embedding_tgt, memory, mask_tgt, None, padding_mask_tgt, memory_key_padding_mask)\n",
    "        \n",
    "        return outs, L0_loss"
   ]
  },
  {
   "cell_type": "code",
   "execution_count": 5,
   "id": "fb24da82",
   "metadata": {},
   "outputs": [],
   "source": [
    "class Transformer_Linear(nn.Module):\n",
    "    def __init__(self, embedding_size, vocab_size_tgt):\n",
    "        super(Transformer_Linear, self).__init__()\n",
    "        self.output = nn.Linear(embedding_size, vocab_size_tgt)\n",
    "        \n",
    "    def forward(self, outs):\n",
    "        return self.output(outs)"
   ]
  },
  {
   "cell_type": "code",
   "execution_count": 6,
   "id": "0a5c9761",
   "metadata": {
    "scrolled": true
   },
   "outputs": [
    {
     "name": "stdout",
     "output_type": "stream",
     "text": [
      "src vocab size:  1817025\n",
      "tgt vocab size:  769754\n"
     ]
    }
   ],
   "source": [
    "embedding_size = 512\n",
    "\n",
    "vocab_size_src = len(vocab_de)\n",
    "vocab_size_tgt = len(vocab_en)\n",
    "\n",
    "print('src vocab size: ', vocab_size_src)\n",
    "print('tgt vocab size: ', vocab_size_tgt)"
   ]
  },
  {
   "cell_type": "code",
   "execution_count": 7,
   "id": "ba968333",
   "metadata": {},
   "outputs": [],
   "source": [
    "def now_lambda(i, max_iter=1000, max_lambda=0.5):\n",
    "    i_ = i if i <= max_iter else max_iter\n",
    "    return max_lambda * math.sin(math.pi*i_/(max_iter*2))"
   ]
  },
  {
   "cell_type": "markdown",
   "id": "3edff3f1",
   "metadata": {},
   "source": [
    "教師モデルを学習します．\n",
    "- 10000 iterations\n",
    "- 10 iterations 毎に評価（誤差が小さかったら保存）"
   ]
  },
  {
   "cell_type": "code",
   "execution_count": 7,
   "id": "5d6aefdb",
   "metadata": {},
   "outputs": [],
   "source": [
    "max_iter = 10000\n",
    "interval = 10"
   ]
  },
  {
   "cell_type": "code",
   "execution_count": 8,
   "id": "9c0f8c36",
   "metadata": {},
   "outputs": [],
   "source": [
    "T_enc = Transformer_Encoder(embedding_size, vocab_size_src).cuda(0)\n",
    "T_dec = Transformer_Decoder(embedding_size, vocab_size_tgt).cuda(1)\n",
    "T_fc = Transformer_Linear(embedding_size, vocab_size_tgt).cuda(2)"
   ]
  },
  {
   "cell_type": "code",
   "execution_count": 9,
   "id": "1a3e6c9d",
   "metadata": {},
   "outputs": [],
   "source": [
    "torch.save(T_enc.state_dict(), '../Models/T_enc_init.pth')\n",
    "torch.save(T_dec.state_dict(), '../Models/T_dec_init.pth')\n",
    "torch.save(T_fc.state_dict(), '../Models/T_fc_init.pth')"
   ]
  },
  {
   "cell_type": "markdown",
   "id": "8998334e",
   "metadata": {},
   "source": [
    "$\\lambda$ を増やすと head の数が減ります．\n",
    "教師モデルは head 数を変えたくないので 0.0 で初期化"
   ]
  },
  {
   "cell_type": "code",
   "execution_count": 10,
   "id": "4dc668cb",
   "metadata": {},
   "outputs": [],
   "source": [
    "lambda_ = 0.0\n",
    "criterion = nn.CrossEntropyLoss(ignore_index=PAD_IDX)\n",
    "optimizer = torch.optim.Adam([{'params': T_enc.parameters()},{'params': T_dec.parameters()},{'params': T_fc.parameters()}])"
   ]
  },
  {
   "cell_type": "code",
   "execution_count": 11,
   "id": "f8fde0f4",
   "metadata": {
    "scrolled": true
   },
   "outputs": [
    {
     "name": "stderr",
     "output_type": "stream",
     "text": [
      "  4%|█▊                                              | 10000/260320 [4:26:01<110:59:07,  1.60s/it, best_valid_loss=7.53]\n"
     ]
    }
   ],
   "source": [
    "val_loss_list = []\n",
    "best_loss = float('inf')\n",
    "\n",
    "loss_list = []\n",
    "\n",
    "with tqdm(train_loader) as pbar:\n",
    "    for i, (src, tgt) in enumerate(pbar):\n",
    "        if i == max_iter:\n",
    "            break\n",
    "    \n",
    "        T_enc.train()\n",
    "        T_dec.train()\n",
    "        T_fc.train()\n",
    "    \n",
    "        input_tgt = tgt[:-1, :]\n",
    "        mask_src, mask_tgt, padding_mask_src, padding_mask_tgt = create_mask(src, input_tgt, PAD_IDX)\n",
    "    \n",
    "        src = src.cuda(0)\n",
    "        mask_src = mask_src.cuda(0)\n",
    "        padding_mask_src = padding_mask_src.cuda(0)\n",
    "        memory, L0_loss_enc = T_enc(src, mask_src, padding_mask_src)\n",
    "    \n",
    "        memory = memory.cuda(1)\n",
    "        mask_tgt = mask_tgt.cuda(1)\n",
    "        padding_mask_tgt = padding_mask_tgt.cuda(1)\n",
    "        padding_mask_src = padding_mask_src.cuda(1)\n",
    "        input_tgt = tgt[:-1, :].cuda(1)\n",
    "        outs, L0_loss_dec = T_dec(input_tgt, memory, mask_tgt, padding_mask_tgt, padding_mask_src)\n",
    "    \n",
    "        outs = outs.cuda(2)\n",
    "        logits = T_fc(outs)\n",
    "    \n",
    "        optimizer.zero_grad()\n",
    "        output_tgt = tgt[1:, :].cuda(2)\n",
    "        loss = criterion(logits.reshape(-1, logits.shape[-1]), output_tgt.reshape(-1)) + lambda_ * (L0_loss_enc.cuda(2) + L0_loss_dec.cuda(2))\n",
    "        loss.backward()\n",
    "    \n",
    "        optimizer.step()\n",
    "        loss_list.append(loss.item())\n",
    "    \n",
    "        if i % interval == 0:\n",
    "            T_enc.eval()\n",
    "            T_dec.eval()\n",
    "            T_fc.eval()\n",
    "        \n",
    "            v_loss = 0\n",
    "        \n",
    "            for src_, tgt_ in valid_loader:\n",
    "                input_tgt_ = tgt_[:-1, :]\n",
    "                mask_src_, mask_tgt_, padding_mask_src_, padding_mask_tgt_ = create_mask(src_, input_tgt_, PAD_IDX)\n",
    "            \n",
    "                src_ = src_.cuda(0)\n",
    "                mask_src_ = mask_src_.cuda(0)\n",
    "                padding_mask_src_ = padding_mask_src_.cuda(0)\n",
    "                memory_, L0_loss_enc_ = T_enc(src_, mask_src_, padding_mask_src_)\n",
    "            \n",
    "                memory_ = memory_.cuda(1)\n",
    "                mask_tgt_ = mask_tgt_.cuda(1)\n",
    "                padding_mask_tgt_ = padding_mask_tgt_.cuda(1)\n",
    "                padding_mask_src_ = padding_mask_src_.cuda(1)\n",
    "                input_tgt_ = tgt_[:-1, :].cuda(1)\n",
    "                outs_, L0_loss_dec_ = T_dec(input_tgt_, memory_, mask_tgt_, padding_mask_tgt_, padding_mask_src_)\n",
    "            \n",
    "                outs_ = outs_.cuda(2)\n",
    "                logits_ = T_fc(outs_)\n",
    "            \n",
    "                output_tgt_ = tgt_[1:, :].cuda(2)\n",
    "                loss_ = criterion(logits_.reshape(-1, logits_.shape[-1]), output_tgt_.reshape(-1)) + lambda_ * (L0_loss_enc_.cuda(2) + L0_loss_enc_.cuda(2))\n",
    "                v_loss += loss_.item()\n",
    "                \n",
    "            v_loss = v_loss / len(valid_loader)\n",
    "            val_loss_list.append(v_loss)\n",
    "        \n",
    "            if best_loss > v_loss:\n",
    "                best_loss = v_loss\n",
    "            \n",
    "                torch.save(T_enc.state_dict(), '../Models/T_enc.pth')\n",
    "                torch.save(T_dec.state_dict(), '../Models/T_dec.pth')\n",
    "                torch.save(T_fc.state_dict(), '../Models/T_fc.pth')\n",
    "                \n",
    "        pbar.set_postfix({\"best_valid_loss\": best_loss})"
   ]
  },
  {
   "cell_type": "code",
   "execution_count": 12,
   "id": "658f383b",
   "metadata": {},
   "outputs": [
    {
     "data": {
      "image/png": "[encoded data removed]",
      "text/plain": [
       "<Figure size 432x288 with 1 Axes>"
      ]
     },
     "metadata": {
      "needs_background": "light"
     },
     "output_type": "display_data"
    }
   ],
   "source": [
    "train_x = np.arange(1, len(loss_list)+1)\n",
    "valid_x = np.arange(1, len(val_loss_list)+1) * 10\n",
    "\n",
    "train_loss_list = np.array(loss_list)\n",
    "val_loss_list = np.array(val_loss_list)\n",
    "\n",
    "plt.plot(train_x, train_loss_list, label='train', color='red')\n",
    "plt.plot(valid_x, val_loss_list, label='valid', color='blue')\n",
    "\n",
    "plt.title('Teacher-Model Transformer')\n",
    "plt.xlabel('Iterations')\n",
    "plt.ylabel('Loss')\n",
    "plt.legend()\n",
    "\n",
    "plt.savefig('../Plots/T_model_loss')\n",
    "plt.show()"
   ]
  },
  {
   "cell_type": "code",
   "execution_count": 13,
   "id": "56df2282",
   "metadata": {},
   "outputs": [],
   "source": [
    "np.savetxt('../Models/BaseLine_loss_train.txt', train_loss_list)\n",
    "np.savetxt('../Models/BaseLine_loss_valid_txt', val_loss_list)"
   ]
  },
  {
   "cell_type": "markdown",
   "id": "7a592921",
   "metadata": {},
   "source": [
    "教師モデルから生徒モデルを学習します．\n",
    "損失関数は KLDivLoss を使います．\n",
    "- 教師モデルの学習が終了している場合はここから開始"
   ]
  },
  {
   "cell_type": "code",
   "execution_count": 7,
   "id": "709b29b5",
   "metadata": {},
   "outputs": [
    {
     "data": {
      "text/plain": [
       "<All keys matched successfully>"
      ]
     },
     "execution_count": 7,
     "metadata": {},
     "output_type": "execute_result"
    }
   ],
   "source": [
    "T_enc = Transformer_Encoder(embedding_size, vocab_size_src).cuda(1)\n",
    "T_dec = Transformer_Decoder(embedding_size, vocab_size_tgt).cuda(1)\n",
    "T_fc = Transformer_Linear(embedding_size, vocab_size_tgt).cuda(1)\n",
    "\n",
    "T_enc.load_state_dict(torch.load('../Models/T_enc.pth'))\n",
    "T_dec.load_state_dict(torch.load('../Models/T_dec.pth'))\n",
    "T_fc.load_state_dict(torch.load('../Models/T_fc.pth'))"
   ]
  },
  {
   "cell_type": "code",
   "execution_count": 8,
   "id": "b50e4ce7",
   "metadata": {},
   "outputs": [
    {
     "data": {
      "text/plain": [
       "<All keys matched successfully>"
      ]
     },
     "execution_count": 8,
     "metadata": {},
     "output_type": "execute_result"
    }
   ],
   "source": [
    "S_enc = Transformer_Encoder(embedding_size, vocab_size_src).cuda(0)\n",
    "S_dec = Transformer_Decoder(embedding_size, vocab_size_tgt).cuda(1)\n",
    "S_fc = Transformer_Linear(embedding_size, vocab_size_tgt).cuda(2)\n",
    "\n",
    "S_enc.load_state_dict(torch.load('../Models/T_enc_init.pth'))\n",
    "S_dec.load_state_dict(torch.load('../Models/T_dec_init.pth'))\n",
    "S_fc.load_state_dict(torch.load('../Models/T_fc_init.pth'))"
   ]
  },
  {
   "cell_type": "markdown",
   "id": "12263dfd",
   "metadata": {},
   "source": [
    "最初の 1000 iter で徐々に $\\lambda$ を 0.0 ~ 0.5 まで増加させます．"
   ]
  },
  {
   "cell_type": "code",
   "execution_count": 10,
   "id": "5f640bbe",
   "metadata": {},
   "outputs": [],
   "source": [
    "criterion = nn.KLDivLoss(reduction='batchmean')\n",
    "criterion2 = nn.CrossEntropyLoss(ignore_index=PAD_IDX)\n",
    "max_iter = 10000\n",
    "interval = 10\n",
    "optimizer = torch.optim.Adam([{'params': S_enc.parameters()},{'params': S_dec.parameters()},{'params': S_fc.parameters()}])"
   ]
  },
  {
   "cell_type": "code",
   "execution_count": 11,
   "id": "71835f1c",
   "metadata": {
    "scrolled": true
   },
   "outputs": [
    {
     "name": "stderr",
     "output_type": "stream",
     "text": [
      "  4%|█▍                                     | 10000/260320 [4:50:35<121:14:02,  1.74s/it, best_loss=8.09, now loss=14.6]\n"
     ]
    }
   ],
   "source": [
    "val_loss_list = []\n",
    "best_loss = float('inf')\n",
    "loss_list = []\n",
    "\n",
    "enc_gate = []\n",
    "dec_gate = []\n",
    "dec_gate2 = []\n",
    "\n",
    "with tqdm(train_loader) as pbar:\n",
    "    for i, (src, tgt) in enumerate(pbar):\n",
    "        if i == max_iter:\n",
    "            break\n",
    "        \n",
    "        lambda_ = now_lambda(i)\n",
    "        T_enc.eval()\n",
    "        T_dec.eval()\n",
    "        T_fc.eval()\n",
    "        \n",
    "        S_enc.train()\n",
    "        S_dec.train()\n",
    "        S_fc.train()\n",
    "    \n",
    "        input_tgt = tgt[:-1, :]\n",
    "        mask_src, mask_tgt, padding_mask_src, padding_mask_tgt = create_mask(src, input_tgt, PAD_IDX)\n",
    "        \n",
    "        src = src.cuda(1)\n",
    "        mask_src = mask_src.cuda(1)\n",
    "        padding_mask_src = padding_mask_src.cuda(1)\n",
    "        memory, _ = T_enc(src, mask_src, padding_mask_src)\n",
    "        mask_tgt = mask_tgt.cuda(1)\n",
    "        padding_mask_tgt = padding_mask_tgt.cuda(1)\n",
    "        padding_mask_src = padding_mask_src.cuda(1)\n",
    "        input_tgt = tgt[:-1, :].cuda(1)\n",
    "        outs, _ = T_dec(input_tgt, memory, mask_tgt, padding_mask_tgt, padding_mask_src)\n",
    "        T_logits = T_fc(outs)\n",
    "        T_logits = T_logits.cuda(2)\n",
    "        \n",
    "        src = src.cuda(0)\n",
    "        mask_src = mask_src.cuda(0)\n",
    "        padding_mask_src = padding_mask_src.cuda(0)\n",
    "        memory, L0_loss_enc = S_enc(src, mask_src, padding_mask_src)\n",
    "    \n",
    "        memory = memory.cuda(1)\n",
    "        mask_tgt = mask_tgt.cuda(1)\n",
    "        padding_mask_tgt = padding_mask_tgt.cuda(1)\n",
    "        padding_mask_src = padding_mask_src.cuda(1)\n",
    "        input_tgt = tgt[:-1, :].cuda(1)\n",
    "        outs, L0_loss_dec = S_dec(input_tgt, memory, mask_tgt, padding_mask_tgt, padding_mask_src)\n",
    "    \n",
    "        outs = outs.cuda(2)\n",
    "        S_logits = S_fc(outs)\n",
    "        \n",
    "        for l in S_enc.transformer_encoder.layers:\n",
    "            enc_gate.append(l.self_attn.sparsity[1].detach().cpu())\n",
    "        for l in S_dec.transformer_decoder.layers:\n",
    "            dec_gate.append(l.self_attn.sparsity[1].detach().cpu())\n",
    "            dec_gate2.append(l.multihead_attn.sparsity[1].detach().cpu())\n",
    "    \n",
    "        optimizer.zero_grad()\n",
    "        \n",
    "        loss = criterion(F.log_softmax(T_logits.reshape(-1, T_logits.shape[-1]), dim=1), F.softmax(S_logits.reshape(-1, S_logits.shape[-1]), dim=1)) + lambda_ * (L0_loss_enc.cuda(2) + L0_loss_enc.cuda(2))\n",
    "        loss.backward()\n",
    "    \n",
    "        optimizer.step()\n",
    "        loss_list.append(loss.item())\n",
    "    \n",
    "        if i % interval == 0:\n",
    "            S_enc.eval()\n",
    "            S_dec.eval()\n",
    "            S_fc.eval()\n",
    "        \n",
    "            v_loss = 0\n",
    "        \n",
    "            for src_, tgt_ in valid_loader:\n",
    "                input_tgt_ = tgt_[:-1, :]\n",
    "                mask_src_, mask_tgt_, padding_mask_src_, padding_mask_tgt_ = create_mask(src_, input_tgt_, PAD_IDX)\n",
    "            \n",
    "                src_ = src_.cuda(0)\n",
    "                mask_src_ = mask_src_.cuda(0)\n",
    "                padding_mask_src_ = padding_mask_src_.cuda(0)\n",
    "                memory_, L0_loss_enc_ = S_enc(src_, mask_src_, padding_mask_src_)\n",
    "            \n",
    "                memory_ = memory_.cuda(1)\n",
    "                mask_tgt_ = mask_tgt_.cuda(1)\n",
    "                padding_mask_tgt_ = padding_mask_tgt_.cuda(1)\n",
    "                padding_mask_src_ = padding_mask_src_.cuda(1)\n",
    "                input_tgt_ = tgt_[:-1, :].cuda(1)\n",
    "                outs_, L0_loss_dec_ = S_dec(input_tgt_, memory_, mask_tgt_, padding_mask_tgt_, padding_mask_src_)\n",
    "            \n",
    "                outs_ = outs_.cuda(2)\n",
    "                logits_ = S_fc(outs_)\n",
    "            \n",
    "                output_tgt_ = tgt_[1:, :].cuda(2)\n",
    "                loss_ = criterion2(logits_.reshape(-1, logits_.shape[-1]), output_tgt_.reshape(-1)) + lambda_ * (L0_loss_enc_.cuda(2) + L0_loss_dec_.cuda(2))\n",
    "                v_loss += loss_.item()\n",
    "                \n",
    "            v_loss = v_loss / len(valid_loader)\n",
    "            val_loss_list.append(v_loss)\n",
    "        \n",
    "            if best_loss > v_loss:\n",
    "                best_loss = v_loss\n",
    "            \n",
    "                torch.save(S_enc.state_dict(), '../Models/S_enc.pth')\n",
    "                torch.save(S_dec.state_dict(), '../Models/S_dec.pth')\n",
    "                torch.save(S_fc.state_dict(), '../Models/S_fc.pth')\n",
    "                \n",
    "        pbar.set_postfix({\"best_loss\": best_loss, 'now loss':v_loss})"
   ]
  },
  {
   "cell_type": "code",
   "execution_count": 12,
   "id": "600d5367",
   "metadata": {},
   "outputs": [],
   "source": [
    "def calc_sparsity(gate, num_heads=8, num_layers=6):\n",
    "    sum_heads = num_heads * num_layers\n",
    "    len_seq = len(gate) // num_layers\n",
    "    \n",
    "    data = []\n",
    "    for seq in range(len_seq):\n",
    "        sum_ = sum([sum(sum(gate[seq*num_layers: seq*num_layers+num_layers]))])\n",
    "        data.append(sum_)\n",
    "    data = np.array(data)\n",
    "    data /= sum_heads\n",
    "    \n",
    "    return data"
   ]
  },
  {
   "cell_type": "code",
   "execution_count": 13,
   "id": "ef226af4",
   "metadata": {},
   "outputs": [
    {
     "data": {
      "image/png": "[encoded data removed]",
      "text/plain": [
       "<Figure size 432x288 with 1 Axes>"
      ]
     },
     "metadata": {
      "needs_background": "light"
     },
     "output_type": "display_data"
    }
   ],
   "source": [
    "seq_len = max_iter\n",
    "\n",
    "x = np.arange(1, seq_len + 1)\n",
    "enc_y = calc_sparsity(enc_gate)\n",
    "dec_y = calc_sparsity(dec_gate)\n",
    "dec_y2 = calc_sparsity(dec_gate2)\n",
    "\n",
    "plt.plot(x, enc_y, label='enc-sa', color='orange')\n",
    "plt.plot(x, dec_y, label='dec-sa', color='purple')\n",
    "plt.plot(x, dec_y2, label='dec-mha', color='green')\n",
    "\n",
    "plt.xlabel('Iterations')\n",
    "plt.ylabel('Sparsity')\n",
    "\n",
    "plt.legend()\n",
    "\n",
    "plt.show()"
   ]
  },
  {
   "cell_type": "code",
   "execution_count": 14,
   "id": "b09c64c4",
   "metadata": {},
   "outputs": [
    {
     "data": {
      "image/png": "[encoded data removed]",
      "text/plain": [
       "<Figure size 432x288 with 1 Axes>"
      ]
     },
     "metadata": {
      "needs_background": "light"
     },
     "output_type": "display_data"
    }
   ],
   "source": [
    "seq_len = max_iter\n",
    "\n",
    "x = np.arange(1, seq_len + 1)\n",
    "y = calc_sparsity(enc_gate) + calc_sparsity(dec_gate) + calc_sparsity(dec_gate2)\n",
    "y /= 3.0\n",
    "\n",
    "plt.plot(x, y, color='red')\n",
    "\n",
    "plt.xlabel('Iterations')\n",
    "plt.ylabel('Sparsity')\n",
    "\n",
    "plt.show()"
   ]
  },
  {
   "cell_type": "code",
   "execution_count": 15,
   "id": "d7b242ff",
   "metadata": {},
   "outputs": [
    {
     "data": {
      "image/png": "[encoded data removed]",
      "text/plain": [
       "<Figure size 432x288 with 1 Axes>"
      ]
     },
     "metadata": {
      "needs_background": "light"
     },
     "output_type": "display_data"
    }
   ],
   "source": [
    "train_x = np.arange(1, len(loss_list)+1)\n",
    "valid_x = np.arange(1, len(val_loss_list)+1) * 10\n",
    "\n",
    "train_loss_list = np.array(loss_list)\n",
    "val_loss_list = np.array(val_loss_list)\n",
    "\n",
    "plt.plot(train_x, train_loss_list, label='KLDiv', color='red')\n",
    "plt.plot(valid_x, val_loss_list, label='Valid', color='blue')\n",
    "\n",
    "plt.title('Student-Model Transformer')\n",
    "plt.xlabel('Iterations')\n",
    "plt.ylabel('Loss')\n",
    "plt.legend()\n",
    "\n",
    "plt.savefig('../Plots/S_model_loss')\n",
    "plt.show()"
   ]
  },
  {
   "cell_type": "markdown",
   "id": "10d6f694",
   "metadata": {},
   "source": [
    "L0 loss を適用せず（$\\lambda=0.0$）蒸留"
   ]
  },
  {
   "cell_type": "code",
   "execution_count": 9,
   "id": "b26f9c9c",
   "metadata": {},
   "outputs": [],
   "source": [
    "criterion = nn.KLDivLoss(reduction='batchmean')\n",
    "criterion2 = nn.CrossEntropyLoss(ignore_index=PAD_IDX)\n",
    "max_iter = 10000\n",
    "interval = 10\n",
    "optimizer = torch.optim.Adam([{'params': S_enc.parameters()},{'params': S_dec.parameters()},{'params': S_fc.parameters()}])"
   ]
  },
  {
   "cell_type": "code",
   "execution_count": 10,
   "id": "0411c9fc",
   "metadata": {},
   "outputs": [
    {
     "name": "stderr",
     "output_type": "stream",
     "text": [
      "  4%|█▍                                     | 10000/260320 [5:03:09<126:28:36,  1.82s/it, best_loss=7.53, now loss=7.54]\n"
     ]
    }
   ],
   "source": [
    "val_loss_list = []\n",
    "best_loss = float('inf')\n",
    "loss_list = []\n",
    "\n",
    "enc_gate = []\n",
    "dec_gate = []\n",
    "dec_gate2 = []\n",
    "\n",
    "with tqdm(train_loader) as pbar:\n",
    "    for i, (src, tgt) in enumerate(pbar):\n",
    "        if i == max_iter:\n",
    "            break\n",
    "        \n",
    "        lambda_ = 0.0\n",
    "        T_enc.eval()\n",
    "        T_dec.eval()\n",
    "        T_fc.eval()\n",
    "        \n",
    "        S_enc.train()\n",
    "        S_dec.train()\n",
    "        S_fc.train()\n",
    "    \n",
    "        input_tgt = tgt[:-1, :]\n",
    "        mask_src, mask_tgt, padding_mask_src, padding_mask_tgt = create_mask(src, input_tgt, PAD_IDX)\n",
    "        \n",
    "        src = src.cuda(1)\n",
    "        mask_src = mask_src.cuda(1)\n",
    "        padding_mask_src = padding_mask_src.cuda(1)\n",
    "        memory, _ = T_enc(src, mask_src, padding_mask_src)\n",
    "        mask_tgt = mask_tgt.cuda(1)\n",
    "        padding_mask_tgt = padding_mask_tgt.cuda(1)\n",
    "        padding_mask_src = padding_mask_src.cuda(1)\n",
    "        input_tgt = tgt[:-1, :].cuda(1)\n",
    "        outs, _ = T_dec(input_tgt, memory, mask_tgt, padding_mask_tgt, padding_mask_src)\n",
    "        T_logits = T_fc(outs)\n",
    "        T_logits = T_logits.cuda(2)\n",
    "        \n",
    "        src = src.cuda(0)\n",
    "        mask_src = mask_src.cuda(0)\n",
    "        padding_mask_src = padding_mask_src.cuda(0)\n",
    "        memory, L0_loss_enc = S_enc(src, mask_src, padding_mask_src)\n",
    "    \n",
    "        memory = memory.cuda(1)\n",
    "        mask_tgt = mask_tgt.cuda(1)\n",
    "        padding_mask_tgt = padding_mask_tgt.cuda(1)\n",
    "        padding_mask_src = padding_mask_src.cuda(1)\n",
    "        input_tgt = tgt[:-1, :].cuda(1)\n",
    "        outs, L0_loss_dec = S_dec(input_tgt, memory, mask_tgt, padding_mask_tgt, padding_mask_src)\n",
    "    \n",
    "        outs = outs.cuda(2)\n",
    "        S_logits = S_fc(outs)\n",
    "        \n",
    "        for l in S_enc.transformer_encoder.layers:\n",
    "            enc_gate.append(l.self_attn.sparsity[1].detach().cpu())\n",
    "        for l in S_dec.transformer_decoder.layers:\n",
    "            dec_gate.append(l.self_attn.sparsity[1].detach().cpu())\n",
    "            dec_gate2.append(l.multihead_attn.sparsity[1].detach().cpu())\n",
    "    \n",
    "        optimizer.zero_grad()\n",
    "        \n",
    "        loss = criterion(F.log_softmax(T_logits.reshape(-1, T_logits.shape[-1]), dim=1), F.softmax(S_logits.reshape(-1, S_logits.shape[-1]), dim=1)) + lambda_ * (L0_loss_enc.cuda(2) + L0_loss_enc.cuda(2))\n",
    "        loss.backward()\n",
    "    \n",
    "        optimizer.step()\n",
    "        loss_list.append(loss.item())\n",
    "    \n",
    "        if i % interval == 0:\n",
    "            S_enc.eval()\n",
    "            S_dec.eval()\n",
    "            S_fc.eval()\n",
    "        \n",
    "            v_loss = 0\n",
    "        \n",
    "            for src_, tgt_ in valid_loader:\n",
    "                input_tgt_ = tgt_[:-1, :]\n",
    "                mask_src_, mask_tgt_, padding_mask_src_, padding_mask_tgt_ = create_mask(src_, input_tgt_, PAD_IDX)\n",
    "            \n",
    "                src_ = src_.cuda(0)\n",
    "                mask_src_ = mask_src_.cuda(0)\n",
    "                padding_mask_src_ = padding_mask_src_.cuda(0)\n",
    "                memory_, L0_loss_enc_ = S_enc(src_, mask_src_, padding_mask_src_)\n",
    "            \n",
    "                memory_ = memory_.cuda(1)\n",
    "                mask_tgt_ = mask_tgt_.cuda(1)\n",
    "                padding_mask_tgt_ = padding_mask_tgt_.cuda(1)\n",
    "                padding_mask_src_ = padding_mask_src_.cuda(1)\n",
    "                input_tgt_ = tgt_[:-1, :].cuda(1)\n",
    "                outs_, L0_loss_dec_ = S_dec(input_tgt_, memory_, mask_tgt_, padding_mask_tgt_, padding_mask_src_)\n",
    "            \n",
    "                outs_ = outs_.cuda(2)\n",
    "                logits_ = S_fc(outs_)\n",
    "            \n",
    "                output_tgt_ = tgt_[1:, :].cuda(2)\n",
    "                loss_ = criterion2(logits_.reshape(-1, logits_.shape[-1]), output_tgt_.reshape(-1)) + lambda_ * (L0_loss_enc_.cuda(2) + L0_loss_dec_.cuda(2))\n",
    "                v_loss += loss_.item()\n",
    "                \n",
    "            v_loss = v_loss / len(valid_loader)\n",
    "            val_loss_list.append(v_loss)\n",
    "        \n",
    "            if best_loss > v_loss:\n",
    "                best_loss = v_loss\n",
    "            \n",
    "                torch.save(S_enc.state_dict(), '../Models/S_enc_KD_LAM0.pth')\n",
    "                torch.save(S_dec.state_dict(), '../Models/S_dec_KD_LAM0.pth')\n",
    "                torch.save(S_fc.state_dict(), '../Models/S_fc_KD_LAM0.pth')\n",
    "                \n",
    "        pbar.set_postfix({\"best_loss\": best_loss, 'now loss':v_loss})"
   ]
  },
  {
   "cell_type": "code",
   "execution_count": 11,
   "id": "f49ac24e",
   "metadata": {},
   "outputs": [],
   "source": [
    "def calc_sparsity(gate, num_heads=8, num_layers=6):\n",
    "    sum_heads = num_heads * num_layers\n",
    "    len_seq = len(gate) // num_layers\n",
    "    \n",
    "    data = []\n",
    "    for seq in range(len_seq):\n",
    "        sum_ = sum([sum(sum(gate[seq*num_layers: seq*num_layers+num_layers]))])\n",
    "        data.append(sum_)\n",
    "    data = np.array(data)\n",
    "    data /= sum_heads\n",
    "    \n",
    "    return data"
   ]
  },
  {
   "cell_type": "code",
   "execution_count": 12,
   "id": "ae431f05",
   "metadata": {},
   "outputs": [
    {
     "data": {
      "image/png": "[encoded data removed]",
      "text/plain": [
       "<Figure size 432x288 with 1 Axes>"
      ]
     },
     "metadata": {
      "needs_background": "light"
     },
     "output_type": "display_data"
    }
   ],
   "source": [
    "seq_len = max_iter\n",
    "\n",
    "x = np.arange(1, seq_len + 1)\n",
    "enc_y = calc_sparsity(enc_gate)\n",
    "dec_y = calc_sparsity(dec_gate)\n",
    "dec_y2 = calc_sparsity(dec_gate2)\n",
    "\n",
    "plt.plot(x, enc_y, label='enc-sa', color='orange')\n",
    "plt.plot(x, dec_y, label='dec-sa', color='purple')\n",
    "plt.plot(x, dec_y2, label='dec-mha', color='green')\n",
    "\n",
    "plt.xlabel('Iterations')\n",
    "plt.ylabel('Sparsity')\n",
    "\n",
    "plt.legend()\n",
    "\n",
    "plt.show()"
   ]
  },
  {
   "cell_type": "code",
   "execution_count": 13,
   "id": "5078f205",
   "metadata": {},
   "outputs": [
    {
     "data": {
      "image/png": "[encoded data removed]",
      "text/plain": [
       "<Figure size 432x288 with 1 Axes>"
      ]
     },
     "metadata": {
      "needs_background": "light"
     },
     "output_type": "display_data"
    }
   ],
   "source": [
    "seq_len = max_iter\n",
    "\n",
    "x = np.arange(1, seq_len + 1)\n",
    "y = calc_sparsity(enc_gate) + calc_sparsity(dec_gate) + calc_sparsity(dec_gate2)\n",
    "y /= 3.0\n",
    "\n",
    "plt.plot(x, y, color='red')\n",
    "\n",
    "plt.xlabel('Iterations')\n",
    "plt.ylabel('Sparsity')\n",
    "\n",
    "plt.show()"
   ]
  },
  {
   "cell_type": "code",
   "execution_count": 14,
   "id": "c28521cf",
   "metadata": {},
   "outputs": [
    {
     "data": {
      "image/png": "[encoded data removed]",
      "text/plain": [
       "<Figure size 432x288 with 1 Axes>"
      ]
     },
     "metadata": {
      "needs_background": "light"
     },
     "output_type": "display_data"
    }
   ],
   "source": [
    "train_x = np.arange(1, len(loss_list)+1)\n",
    "valid_x = np.arange(1, len(val_loss_list)+1) * 10\n",
    "\n",
    "train_loss_list = np.array(loss_list)\n",
    "val_loss_list = np.array(val_loss_list)\n",
    "\n",
    "plt.plot(train_x, train_loss_list, label='KLDiv', color='red')\n",
    "plt.plot(valid_x, val_loss_list, label='Valid', color='blue')\n",
    "\n",
    "plt.title('Student-Model Transformer')\n",
    "plt.xlabel('Iterations')\n",
    "plt.ylabel('Loss')\n",
    "plt.legend()\n",
    "\n",
    "plt.savefig('../Plots/S_model_loss_KD_LAM0.png')\n",
    "plt.show()"
   ]
  },
  {
   "cell_type": "markdown",
   "id": "775cb1e5",
   "metadata": {},
   "source": [
    "L0 Loss を，蒸留過程ではなくWMT16 の学習過程で適用\n",
    "- 上の実験で過学習が起きたため，蒸留を抜きで実験"
   ]
  },
  {
   "cell_type": "code",
   "execution_count": 7,
   "id": "527e8123",
   "metadata": {},
   "outputs": [],
   "source": [
    "max_iter = 10000\n",
    "interval = 10"
   ]
  },
  {
   "cell_type": "code",
   "execution_count": 8,
   "id": "b92a290f",
   "metadata": {},
   "outputs": [
    {
     "data": {
      "text/plain": [
       "<All keys matched successfully>"
      ]
     },
     "execution_count": 8,
     "metadata": {},
     "output_type": "execute_result"
    }
   ],
   "source": [
    "S_enc = Transformer_Encoder(embedding_size, vocab_size_src).cuda(0)\n",
    "S_dec = Transformer_Decoder(embedding_size, vocab_size_tgt).cuda(1)\n",
    "S_fc = Transformer_Linear(embedding_size, vocab_size_tgt).cuda(2)\n",
    "\n",
    "S_enc.load_state_dict(torch.load('../Models/T_enc_init.pth'))\n",
    "S_dec.load_state_dict(torch.load('../Models/T_dec_init.pth'))\n",
    "S_fc.load_state_dict(torch.load('../Models/T_fc_init.pth'))"
   ]
  },
  {
   "cell_type": "code",
   "execution_count": 9,
   "id": "f5c3e508",
   "metadata": {},
   "outputs": [],
   "source": [
    "criterion = nn.CrossEntropyLoss(ignore_index=PAD_IDX)\n",
    "optimizer = torch.optim.Adam([{'params': S_enc.parameters()},{'params': S_dec.parameters()},{'params': S_fc.parameters()}])"
   ]
  },
  {
   "cell_type": "code",
   "execution_count": 12,
   "id": "82127b28",
   "metadata": {
    "scrolled": true
   },
   "outputs": [
    {
     "name": "stderr",
     "output_type": "stream",
     "text": [
      "  4%|█▍                                     | 10000/260320 [7:50:11<196:09:43,  2.82s/it, best_loss=7.61, now_loss=7.62]\n"
     ]
    }
   ],
   "source": [
    "val_loss_list = []\n",
    "best_loss = float('inf')\n",
    "loss_list = []\n",
    "\n",
    "enc_gate = []\n",
    "dec_gate = []\n",
    "dec_gate2 = []\n",
    "\n",
    "with tqdm(train_loader) as pbar:\n",
    "    for i, (src, tgt) in enumerate(pbar):\n",
    "        if i == max_iter:\n",
    "            break\n",
    "        \n",
    "        lambda_ = now_lambda(i)\n",
    "        \n",
    "        S_enc.train()\n",
    "        S_dec.train()\n",
    "        S_fc.train()\n",
    "    \n",
    "        input_tgt = tgt[:-1, :]\n",
    "        mask_src, mask_tgt, padding_mask_src, padding_mask_tgt = create_mask(src, input_tgt, PAD_IDX)\n",
    "        \n",
    "        src = src.cuda(0)\n",
    "        mask_src = mask_src.cuda(0)\n",
    "        padding_mask_src = padding_mask_src.cuda(0)\n",
    "        memory, L0_loss_enc = S_enc(src, mask_src, padding_mask_src)\n",
    "    \n",
    "        memory = memory.cuda(1)\n",
    "        mask_tgt = mask_tgt.cuda(1)\n",
    "        padding_mask_tgt = padding_mask_tgt.cuda(1)\n",
    "        padding_mask_src = padding_mask_src.cuda(1)\n",
    "        input_tgt = tgt[:-1, :].cuda(1)\n",
    "        outs, L0_loss_dec = S_dec(input_tgt, memory, mask_tgt, padding_mask_tgt, padding_mask_src)\n",
    "    \n",
    "        outs = outs.cuda(2)\n",
    "        S_logits = S_fc(outs)\n",
    "        \n",
    "        for l in S_enc.transformer_encoder.layers:\n",
    "            enc_gate.append(l.self_attn.sparsity[1].detach().cpu())\n",
    "        for l in S_dec.transformer_decoder.layers:\n",
    "            dec_gate.append(l.self_attn.sparsity[1].detach().cpu())\n",
    "            dec_gate2.append(l.multihead_attn.sparsity[1].detach().cpu())\n",
    "    \n",
    "        optimizer.zero_grad()\n",
    "        output_tgt_ = tgt[1:, :].cuda(2)\n",
    "        loss = criterion(S_logits.reshape(-1, S_logits.shape[-1]), output_tgt_.reshape(-1)) + lambda_ * (L0_loss_enc.cuda(2) + L0_loss_dec.cuda(2))\n",
    "        loss.backward()\n",
    "    \n",
    "        optimizer.step()\n",
    "        loss_list.append(loss.item())\n",
    "    \n",
    "        if i % interval == 0:\n",
    "            S_enc.eval()\n",
    "            S_dec.eval()\n",
    "            S_fc.eval()\n",
    "        \n",
    "            v_loss = 0\n",
    "        \n",
    "            for src_, tgt_ in valid_loader:\n",
    "                input_tgt_ = tgt_[:-1, :]\n",
    "                mask_src_, mask_tgt_, padding_mask_src_, padding_mask_tgt_ = create_mask(src_, input_tgt_, PAD_IDX)\n",
    "            \n",
    "                src_ = src_.cuda(0)\n",
    "                mask_src_ = mask_src_.cuda(0)\n",
    "                padding_mask_src_ = padding_mask_src_.cuda(0)\n",
    "                memory_, L0_loss_enc_ = S_enc(src_, mask_src_, padding_mask_src_)\n",
    "            \n",
    "                memory_ = memory_.cuda(1)\n",
    "                mask_tgt_ = mask_tgt_.cuda(1)\n",
    "                padding_mask_tgt_ = padding_mask_tgt_.cuda(1)\n",
    "                padding_mask_src_ = padding_mask_src_.cuda(1)\n",
    "                input_tgt_ = tgt_[:-1, :].cuda(1)\n",
    "                outs_, L0_loss_dec_ = S_dec(input_tgt_, memory_, mask_tgt_, padding_mask_tgt_, padding_mask_src_)\n",
    "            \n",
    "                outs_ = outs_.cuda(2)\n",
    "                logits_ = S_fc(outs_)\n",
    "            \n",
    "                output_tgt_ = tgt_[1:, :].cuda(2)\n",
    "                loss_ = criterion(logits_.reshape(-1, logits_.shape[-1]), output_tgt_.reshape(-1)) + lambda_ * (L0_loss_enc_.cuda(2) + L0_loss_dec_.cuda(2))\n",
    "                v_loss += loss_.item()\n",
    "                \n",
    "            v_loss = v_loss / len(valid_loader)\n",
    "            val_loss_list.append(v_loss)\n",
    "        \n",
    "            if best_loss > v_loss:\n",
    "                best_loss = v_loss\n",
    "            \n",
    "                torch.save(S_enc.state_dict(), '../Models/S_enc_WMT.pth')\n",
    "                torch.save(S_dec.state_dict(), '../Models/S_dec_WMT.pth')\n",
    "                torch.save(S_fc.state_dict(), '../Models/S_fc_WMT.pth')\n",
    "                \n",
    "        pbar.set_postfix({\"best_loss\": best_loss, 'now_loss':v_loss})"
   ]
  },
  {
   "cell_type": "code",
   "execution_count": 13,
   "id": "635d4a27",
   "metadata": {},
   "outputs": [],
   "source": [
    "def calc_sparsity(gate, num_heads=8, num_layers=6):\n",
    "    sum_heads = num_heads * num_layers\n",
    "    len_seq = len(gate) // num_layers\n",
    "    \n",
    "    data = []\n",
    "    for seq in range(len_seq):\n",
    "        sum_ = sum([sum(sum(gate[seq*num_layers: seq*num_layers+num_layers]))])\n",
    "        data.append(sum_)\n",
    "    data = np.array(data)\n",
    "    data /= sum_heads\n",
    "    \n",
    "    return data"
   ]
  },
  {
   "cell_type": "code",
   "execution_count": 14,
   "id": "956750a8",
   "metadata": {},
   "outputs": [
    {
     "data": {
      "image/png": "[encoded data removed]",
      "text/plain": [
       "<Figure size 432x288 with 1 Axes>"
      ]
     },
     "metadata": {
      "needs_background": "light"
     },
     "output_type": "display_data"
    }
   ],
   "source": [
    "seq_len = max_iter\n",
    "\n",
    "x = np.arange(1, seq_len + 1)\n",
    "enc_y = calc_sparsity(enc_gate)\n",
    "dec_y = calc_sparsity(dec_gate)\n",
    "dec_y2 = calc_sparsity(dec_gate2)\n",
    "\n",
    "plt.plot(x, enc_y, label='enc-sa', color='orange')\n",
    "plt.plot(x, dec_y, label='dec-sa', color='purple')\n",
    "plt.plot(x, dec_y2, label='dec-mha', color='green')\n",
    "\n",
    "plt.xlabel('Iterations')\n",
    "plt.ylabel('Sparsity')\n",
    "\n",
    "plt.legend()\n",
    "\n",
    "plt.show()"
   ]
  },
  {
   "cell_type": "code",
   "execution_count": 15,
   "id": "95982858",
   "metadata": {},
   "outputs": [
    {
     "data": {
      "image/png": "[encoded data removed]",
      "text/plain": [
       "<Figure size 432x288 with 1 Axes>"
      ]
     },
     "metadata": {
      "needs_background": "light"
     },
     "output_type": "display_data"
    }
   ],
   "source": [
    "seq_len = max_iter\n",
    "\n",
    "x = np.arange(1, seq_len + 1)\n",
    "y = calc_sparsity(enc_gate) + calc_sparsity(dec_gate) + calc_sparsity(dec_gate2)\n",
    "y /= 3.0\n",
    "\n",
    "plt.plot(x, y, color='red')\n",
    "\n",
    "plt.xlabel('Iterations')\n",
    "plt.ylabel('Sparsity')\n",
    "\n",
    "plt.show()"
   ]
  },
  {
   "cell_type": "code",
   "execution_count": 16,
   "id": "2ed1554a",
   "metadata": {},
   "outputs": [
    {
     "data": {
      "image/png": "[encoded data removed]",
      "text/plain": [
       "<Figure size 432x288 with 1 Axes>"
      ]
     },
     "metadata": {
      "needs_background": "light"
     },
     "output_type": "display_data"
    }
   ],
   "source": [
    "train_x = np.arange(1, len(loss_list)+1)\n",
    "valid_x = np.arange(1, len(val_loss_list)+1) * 10\n",
    "\n",
    "train_loss_list = np.array(loss_list)\n",
    "val_loss_list = np.array(val_loss_list)\n",
    "\n",
    "plt.plot(train_x, train_loss_list, label='CrossEn', color='red')\n",
    "plt.plot(valid_x, val_loss_list, label='Valid', color='blue')\n",
    "\n",
    "plt.title('WMT16-L0_Loss-Transformer')\n",
    "plt.xlabel('Iterations')\n",
    "plt.ylabel('Loss')\n",
    "plt.legend()\n",
    "\n",
    "plt.savefig('../Plots/S_model_L0loss_WMT')\n",
    "plt.show()"
   ]
  },
  {
   "cell_type": "markdown",
   "id": "2dc56456",
   "metadata": {},
   "source": [
    "$\\lambda = 0.5$ で一定にして学習 "
   ]
  },
  {
   "cell_type": "code",
   "execution_count": 7,
   "id": "1dca3d35",
   "metadata": {},
   "outputs": [],
   "source": [
    "max_iter = 10000\n",
    "interval = 10"
   ]
  },
  {
   "cell_type": "code",
   "execution_count": 8,
   "id": "aacd04e6",
   "metadata": {},
   "outputs": [
    {
     "data": {
      "text/plain": [
       "<All keys matched successfully>"
      ]
     },
     "execution_count": 8,
     "metadata": {},
     "output_type": "execute_result"
    }
   ],
   "source": [
    "S_enc = Transformer_Encoder(embedding_size, vocab_size_src).cuda(0)\n",
    "S_dec = Transformer_Decoder(embedding_size, vocab_size_tgt).cuda(1)\n",
    "S_fc = Transformer_Linear(embedding_size, vocab_size_tgt).cuda(2)\n",
    "\n",
    "S_enc.load_state_dict(torch.load('../Models/T_enc_init.pth'))\n",
    "S_dec.load_state_dict(torch.load('../Models/T_dec_init.pth'))\n",
    "S_fc.load_state_dict(torch.load('../Models/T_fc_init.pth'))"
   ]
  },
  {
   "cell_type": "code",
   "execution_count": 9,
   "id": "09454ce8",
   "metadata": {},
   "outputs": [],
   "source": [
    "criterion = nn.CrossEntropyLoss(ignore_index=PAD_IDX)\n",
    "optimizer = torch.optim.Adam([{'params': S_enc.parameters()},{'params': S_dec.parameters()},{'params': S_fc.parameters()}])"
   ]
  },
  {
   "cell_type": "code",
   "execution_count": 10,
   "id": "7476b41d",
   "metadata": {},
   "outputs": [
    {
     "name": "stderr",
     "output_type": "stream",
     "text": [
      "  4%|█▍                                     | 10000/260320 [6:51:34<171:42:39,  2.47s/it, best_loss=8.81, now_loss=10.8]\n"
     ]
    }
   ],
   "source": [
    "val_loss_list = []\n",
    "best_loss = float('inf')\n",
    "loss_list = []\n",
    "\n",
    "enc_gate = []\n",
    "dec_gate = []\n",
    "dec_gate2 = []\n",
    "\n",
    "lambda_ = 0.5\n",
    "\n",
    "with tqdm(train_loader) as pbar:\n",
    "    for i, (src, tgt) in enumerate(pbar):\n",
    "        if i == max_iter:\n",
    "            break\n",
    "        \n",
    "        S_enc.train()\n",
    "        S_dec.train()\n",
    "        S_fc.train()\n",
    "    \n",
    "        input_tgt = tgt[:-1, :]\n",
    "        mask_src, mask_tgt, padding_mask_src, padding_mask_tgt = create_mask(src, input_tgt, PAD_IDX)\n",
    "        \n",
    "        src = src.cuda(0)\n",
    "        mask_src = mask_src.cuda(0)\n",
    "        padding_mask_src = padding_mask_src.cuda(0)\n",
    "        memory, L0_loss_enc = S_enc(src, mask_src, padding_mask_src)\n",
    "    \n",
    "        memory = memory.cuda(1)\n",
    "        mask_tgt = mask_tgt.cuda(1)\n",
    "        padding_mask_tgt = padding_mask_tgt.cuda(1)\n",
    "        padding_mask_src = padding_mask_src.cuda(1)\n",
    "        input_tgt = tgt[:-1, :].cuda(1)\n",
    "        outs, L0_loss_dec = S_dec(input_tgt, memory, mask_tgt, padding_mask_tgt, padding_mask_src)\n",
    "    \n",
    "        outs = outs.cuda(2)\n",
    "        S_logits = S_fc(outs)\n",
    "        \n",
    "        for l in S_enc.transformer_encoder.layers:\n",
    "            enc_gate.append(l.self_attn.sparsity[1].detach().cpu())\n",
    "        for l in S_dec.transformer_decoder.layers:\n",
    "            dec_gate.append(l.self_attn.sparsity[1].detach().cpu())\n",
    "            dec_gate2.append(l.multihead_attn.sparsity[1].detach().cpu())\n",
    "    \n",
    "        optimizer.zero_grad()\n",
    "        output_tgt_ = tgt[1:, :].cuda(2)\n",
    "        loss = criterion(S_logits.reshape(-1, S_logits.shape[-1]), output_tgt_.reshape(-1)) + lambda_ * (L0_loss_enc.cuda(2) + L0_loss_dec.cuda(2))\n",
    "        loss.backward()\n",
    "    \n",
    "        optimizer.step()\n",
    "        loss_list.append(loss.item())\n",
    "    \n",
    "        if i % interval == 0:\n",
    "            S_enc.eval()\n",
    "            S_dec.eval()\n",
    "            S_fc.eval()\n",
    "        \n",
    "            v_loss = 0\n",
    "        \n",
    "            for src_, tgt_ in valid_loader:\n",
    "                input_tgt_ = tgt_[:-1, :]\n",
    "                mask_src_, mask_tgt_, padding_mask_src_, padding_mask_tgt_ = create_mask(src_, input_tgt_, PAD_IDX)\n",
    "            \n",
    "                src_ = src_.cuda(0)\n",
    "                mask_src_ = mask_src_.cuda(0)\n",
    "                padding_mask_src_ = padding_mask_src_.cuda(0)\n",
    "                memory_, L0_loss_enc_ = S_enc(src_, mask_src_, padding_mask_src_)\n",
    "            \n",
    "                memory_ = memory_.cuda(1)\n",
    "                mask_tgt_ = mask_tgt_.cuda(1)\n",
    "                padding_mask_tgt_ = padding_mask_tgt_.cuda(1)\n",
    "                padding_mask_src_ = padding_mask_src_.cuda(1)\n",
    "                input_tgt_ = tgt_[:-1, :].cuda(1)\n",
    "                outs_, L0_loss_dec_ = S_dec(input_tgt_, memory_, mask_tgt_, padding_mask_tgt_, padding_mask_src_)\n",
    "            \n",
    "                outs_ = outs_.cuda(2)\n",
    "                logits_ = S_fc(outs_)\n",
    "            \n",
    "                output_tgt_ = tgt_[1:, :].cuda(2)\n",
    "                loss_ = criterion(logits_.reshape(-1, logits_.shape[-1]), output_tgt_.reshape(-1)) + lambda_ * (L0_loss_enc_.cuda(2) + L0_loss_dec_.cuda(2))\n",
    "                v_loss += loss_.item()\n",
    "                \n",
    "            v_loss = v_loss / len(valid_loader)\n",
    "            val_loss_list.append(v_loss)\n",
    "        \n",
    "            if best_loss > v_loss:\n",
    "                best_loss = v_loss\n",
    "            \n",
    "                torch.save(S_enc.state_dict(), '../Models/S_enc_WMT_constLAM05.pth')\n",
    "                torch.save(S_dec.state_dict(), '../Models/S_dec_WMT_constLAM05.pth')\n",
    "                torch.save(S_fc.state_dict(), '../Models/S_fc_WMT_constLAM05.pth')\n",
    "                \n",
    "        pbar.set_postfix({\"best_loss\": best_loss, 'now_loss':v_loss})"
   ]
  },
  {
   "cell_type": "code",
   "execution_count": 11,
   "id": "6113c376",
   "metadata": {},
   "outputs": [],
   "source": [
    "def calc_sparsity(gate, num_heads=8, num_layers=6):\n",
    "    sum_heads = num_heads * num_layers\n",
    "    len_seq = len(gate) // num_layers\n",
    "    \n",
    "    data = []\n",
    "    for seq in range(len_seq):\n",
    "        sum_ = sum([sum(sum(gate[seq*num_layers: seq*num_layers+num_layers]))])\n",
    "        data.append(sum_)\n",
    "    data = np.array(data)\n",
    "    data /= sum_heads\n",
    "    \n",
    "    return data"
   ]
  },
  {
   "cell_type": "code",
   "execution_count": 12,
   "id": "0b41b93f",
   "metadata": {},
   "outputs": [
    {
     "data": {
      "image/png": "[encoded data removed]",
      "text/plain": [
       "<Figure size 432x288 with 1 Axes>"
      ]
     },
     "metadata": {
      "needs_background": "light"
     },
     "output_type": "display_data"
    }
   ],
   "source": [
    "seq_len = max_iter\n",
    "\n",
    "x = np.arange(1, seq_len + 1)\n",
    "enc_y = calc_sparsity(enc_gate)\n",
    "dec_y = calc_sparsity(dec_gate)\n",
    "dec_y2 = calc_sparsity(dec_gate2)\n",
    "\n",
    "plt.plot(x, enc_y, label='enc-sa', color='orange')\n",
    "plt.plot(x, dec_y, label='dec-sa', color='purple')\n",
    "plt.plot(x, dec_y2, label='dec-mha', color='green')\n",
    "\n",
    "plt.xlabel('Iterations')\n",
    "plt.ylabel('Sparsity')\n",
    "\n",
    "plt.legend()\n",
    "\n",
    "plt.show()"
   ]
  },
  {
   "cell_type": "code",
   "execution_count": 13,
   "id": "9b0a40fe",
   "metadata": {},
   "outputs": [
    {
     "data": {
      "image/png": "[encoded data removed]",
      "text/plain": [
       "<Figure size 432x288 with 1 Axes>"
      ]
     },
     "metadata": {
      "needs_background": "light"
     },
     "output_type": "display_data"
    }
   ],
   "source": [
    "seq_len = max_iter\n",
    "\n",
    "x = np.arange(1, seq_len + 1)\n",
    "y = calc_sparsity(enc_gate) + calc_sparsity(dec_gate) + calc_sparsity(dec_gate2)\n",
    "y /= 3.0\n",
    "\n",
    "plt.plot(x, y, color='red')\n",
    "\n",
    "plt.xlabel('Iterations')\n",
    "plt.ylabel('Sparsity')\n",
    "\n",
    "plt.show()"
   ]
  },
  {
   "cell_type": "code",
   "execution_count": 14,
   "id": "163eadb2",
   "metadata": {},
   "outputs": [
    {
     "data": {
      "image/png": "[encoded data removed]",
      "text/plain": [
       "<Figure size 432x288 with 1 Axes>"
      ]
     },
     "metadata": {
      "needs_background": "light"
     },
     "output_type": "display_data"
    }
   ],
   "source": [
    "train_x = np.arange(1, len(loss_list)+1)\n",
    "valid_x = np.arange(1, len(val_loss_list)+1) * 10\n",
    "\n",
    "train_loss_list = np.array(loss_list)\n",
    "val_loss_list = np.array(val_loss_list)\n",
    "\n",
    "plt.plot(train_x, train_loss_list, label='CrossEn', color='red')\n",
    "plt.plot(valid_x, val_loss_list, label='Valid', color='blue')\n",
    "\n",
    "plt.title('WMT16-L0_Loss-Transformer')\n",
    "plt.xlabel('Iterations')\n",
    "plt.ylabel('Loss')\n",
    "plt.legend()\n",
    "\n",
    "plt.savefig('../Plots/S_model_L0loss_WMT')\n",
    "plt.show()"
   ]
  },
  {
   "cell_type": "markdown",
   "id": "ac79bc63",
   "metadata": {},
   "source": [
    "$\\lambda = 0.2$ で一定にして学習"
   ]
  },
  {
   "cell_type": "code",
   "execution_count": 8,
   "id": "6e5c2fdb",
   "metadata": {},
   "outputs": [],
   "source": [
    "max_iter = 10000\n",
    "interval = 10"
   ]
  },
  {
   "cell_type": "code",
   "execution_count": 9,
   "id": "afbb661f",
   "metadata": {},
   "outputs": [
    {
     "data": {
      "text/plain": [
       "<All keys matched successfully>"
      ]
     },
     "execution_count": 9,
     "metadata": {},
     "output_type": "execute_result"
    }
   ],
   "source": [
    "S_enc = Transformer_Encoder(embedding_size, vocab_size_src).cuda(0)\n",
    "S_dec = Transformer_Decoder(embedding_size, vocab_size_tgt).cuda(1)\n",
    "S_fc = Transformer_Linear(embedding_size, vocab_size_tgt).cuda(2)\n",
    "\n",
    "S_enc.load_state_dict(torch.load('../Models/T_enc_init.pth'))\n",
    "S_dec.load_state_dict(torch.load('../Models/T_dec_init.pth'))\n",
    "S_fc.load_state_dict(torch.load('../Models/T_fc_init.pth'))"
   ]
  },
  {
   "cell_type": "code",
   "execution_count": 10,
   "id": "6f3349dc",
   "metadata": {},
   "outputs": [],
   "source": [
    "criterion = nn.CrossEntropyLoss(ignore_index=PAD_IDX)\n",
    "optimizer = torch.optim.Adam([{'params': S_enc.parameters()},{'params': S_dec.parameters()},{'params': S_fc.parameters()}])"
   ]
  },
  {
   "cell_type": "code",
   "execution_count": 11,
   "id": "55839567",
   "metadata": {},
   "outputs": [
    {
     "name": "stderr",
     "output_type": "stream",
     "text": [
      "  4%|█▍                                    | 10000/260320 [10:40:36<267:15:43,  3.84s/it, best_loss=7.57, now_loss=7.57]\n"
     ]
    }
   ],
   "source": [
    "val_loss_list = []\n",
    "best_loss = float('inf')\n",
    "loss_list = []\n",
    "\n",
    "enc_gate = []\n",
    "dec_gate = []\n",
    "dec_gate2 = []\n",
    "\n",
    "lambda_ = 0.2\n",
    "\n",
    "with tqdm(train_loader) as pbar:\n",
    "    for i, (src, tgt) in enumerate(pbar):\n",
    "        if i == max_iter:\n",
    "            break\n",
    "        \n",
    "        S_enc.train()\n",
    "        S_dec.train()\n",
    "        S_fc.train()\n",
    "    \n",
    "        input_tgt = tgt[:-1, :]\n",
    "        mask_src, mask_tgt, padding_mask_src, padding_mask_tgt = create_mask(src, input_tgt, PAD_IDX)\n",
    "        \n",
    "        src = src.cuda(0)\n",
    "        mask_src = mask_src.cuda(0)\n",
    "        padding_mask_src = padding_mask_src.cuda(0)\n",
    "        memory, L0_loss_enc = S_enc(src, mask_src, padding_mask_src)\n",
    "    \n",
    "        memory = memory.cuda(1)\n",
    "        mask_tgt = mask_tgt.cuda(1)\n",
    "        padding_mask_tgt = padding_mask_tgt.cuda(1)\n",
    "        padding_mask_src = padding_mask_src.cuda(1)\n",
    "        input_tgt = tgt[:-1, :].cuda(1)\n",
    "        outs, L0_loss_dec = S_dec(input_tgt, memory, mask_tgt, padding_mask_tgt, padding_mask_src)\n",
    "    \n",
    "        outs = outs.cuda(2)\n",
    "        S_logits = S_fc(outs)\n",
    "        \n",
    "        for l in S_enc.transformer_encoder.layers:\n",
    "            enc_gate.append(l.self_attn.sparsity[1].detach().cpu())\n",
    "        for l in S_dec.transformer_decoder.layers:\n",
    "            dec_gate.append(l.self_attn.sparsity[1].detach().cpu())\n",
    "            dec_gate2.append(l.multihead_attn.sparsity[1].detach().cpu())\n",
    "    \n",
    "        optimizer.zero_grad()\n",
    "        output_tgt_ = tgt[1:, :].cuda(2)\n",
    "        loss = criterion(S_logits.reshape(-1, S_logits.shape[-1]), output_tgt_.reshape(-1)) + lambda_ * (L0_loss_enc.cuda(2) + L0_loss_dec.cuda(2))\n",
    "        loss.backward()\n",
    "    \n",
    "        optimizer.step()\n",
    "        loss_list.append(loss.item())\n",
    "    \n",
    "        if i % interval == 0:\n",
    "            S_enc.eval()\n",
    "            S_dec.eval()\n",
    "            S_fc.eval()\n",
    "        \n",
    "            v_loss = 0\n",
    "        \n",
    "            for src_, tgt_ in valid_loader:\n",
    "                input_tgt_ = tgt_[:-1, :]\n",
    "                mask_src_, mask_tgt_, padding_mask_src_, padding_mask_tgt_ = create_mask(src_, input_tgt_, PAD_IDX)\n",
    "            \n",
    "                src_ = src_.cuda(0)\n",
    "                mask_src_ = mask_src_.cuda(0)\n",
    "                padding_mask_src_ = padding_mask_src_.cuda(0)\n",
    "                memory_, L0_loss_enc_ = S_enc(src_, mask_src_, padding_mask_src_)\n",
    "            \n",
    "                memory_ = memory_.cuda(1)\n",
    "                mask_tgt_ = mask_tgt_.cuda(1)\n",
    "                padding_mask_tgt_ = padding_mask_tgt_.cuda(1)\n",
    "                padding_mask_src_ = padding_mask_src_.cuda(1)\n",
    "                input_tgt_ = tgt_[:-1, :].cuda(1)\n",
    "                outs_, L0_loss_dec_ = S_dec(input_tgt_, memory_, mask_tgt_, padding_mask_tgt_, padding_mask_src_)\n",
    "            \n",
    "                outs_ = outs_.cuda(2)\n",
    "                logits_ = S_fc(outs_)\n",
    "            \n",
    "                output_tgt_ = tgt_[1:, :].cuda(2)\n",
    "                loss_ = criterion(logits_.reshape(-1, logits_.shape[-1]), output_tgt_.reshape(-1)) + lambda_ * (L0_loss_enc_.cuda(2) + L0_loss_dec_.cuda(2))\n",
    "                v_loss += loss_.item()\n",
    "                \n",
    "            v_loss = v_loss / len(valid_loader)\n",
    "            val_loss_list.append(v_loss)\n",
    "        \n",
    "            if best_loss > v_loss:\n",
    "                best_loss = v_loss\n",
    "            \n",
    "                torch.save(S_enc.state_dict(), '../Models/S_enc_WMT_constLAM02.pth')\n",
    "                torch.save(S_dec.state_dict(), '../Models/S_dec_WMT_constLAM02.pth')\n",
    "                torch.save(S_fc.state_dict(), '../Models/S_fc_WMT_constLAM02.pth')\n",
    "                \n",
    "        pbar.set_postfix({\"best_loss\": best_loss, 'now_loss':v_loss})"
   ]
  },
  {
   "cell_type": "code",
   "execution_count": 12,
   "id": "ecd9e350",
   "metadata": {},
   "outputs": [],
   "source": [
    "def calc_sparsity(gate, num_heads=8, num_layers=6):\n",
    "    sum_heads = num_heads * num_layers\n",
    "    len_seq = len(gate) // num_layers\n",
    "    \n",
    "    data = []\n",
    "    for seq in range(len_seq):\n",
    "        sum_ = sum([sum(sum(gate[seq*num_layers: seq*num_layers+num_layers]))])\n",
    "        data.append(sum_)\n",
    "    data = np.array(data)\n",
    "    data /= sum_heads\n",
    "    \n",
    "    return data"
   ]
  },
  {
   "cell_type": "code",
   "execution_count": 13,
   "id": "2f048fff",
   "metadata": {},
   "outputs": [
    {
     "data": {
      "image/png": "[encoded data removed]",
      "text/plain": [
       "<Figure size 432x288 with 1 Axes>"
      ]
     },
     "metadata": {
      "needs_background": "light"
     },
     "output_type": "display_data"
    }
   ],
   "source": [
    "seq_len = max_iter\n",
    "\n",
    "x = np.arange(1, seq_len + 1)\n",
    "enc_y = calc_sparsity(enc_gate)\n",
    "dec_y = calc_sparsity(dec_gate)\n",
    "dec_y2 = calc_sparsity(dec_gate2)\n",
    "\n",
    "plt.plot(x, enc_y, label='enc-sa', color='orange')\n",
    "plt.plot(x, dec_y, label='dec-sa', color='purple')\n",
    "plt.plot(x, dec_y2, label='dec-mha', color='green')\n",
    "\n",
    "plt.xlabel('Iterations')\n",
    "plt.ylabel('Sparsity')\n",
    "\n",
    "plt.legend()\n",
    "\n",
    "plt.show()"
   ]
  },
  {
   "cell_type": "code",
   "execution_count": 14,
   "id": "9153d77c",
   "metadata": {},
   "outputs": [
    {
     "data": {
      "image/png": "[encoded data removed]",
      "text/plain": [
       "<Figure size 432x288 with 1 Axes>"
      ]
     },
     "metadata": {
      "needs_background": "light"
     },
     "output_type": "display_data"
    }
   ],
   "source": [
    "seq_len = max_iter\n",
    "\n",
    "x = np.arange(1, seq_len + 1)\n",
    "y = calc_sparsity(enc_gate) + calc_sparsity(dec_gate) + calc_sparsity(dec_gate2)\n",
    "y /= 3.0\n",
    "\n",
    "plt.plot(x, y, color='red')\n",
    "\n",
    "plt.xlabel('Iterations')\n",
    "plt.ylabel('Sparsity')\n",
    "\n",
    "plt.show()"
   ]
  },
  {
   "cell_type": "code",
   "execution_count": 15,
   "id": "13c292bc",
   "metadata": {},
   "outputs": [
    {
     "data": {
      "image/png": "[encoded data removed]",
      "text/plain": [
       "<Figure size 432x288 with 1 Axes>"
      ]
     },
     "metadata": {
      "needs_background": "light"
     },
     "output_type": "display_data"
    }
   ],
   "source": [
    "train_x = np.arange(1, len(loss_list)+1)\n",
    "valid_x = np.arange(1, len(val_loss_list)+1) * 10\n",
    "\n",
    "train_loss_list = np.array(loss_list)\n",
    "val_loss_list = np.array(val_loss_list)\n",
    "\n",
    "plt.plot(train_x, train_loss_list, label='CrossEn', color='red')\n",
    "plt.plot(valid_x, val_loss_list, label='Valid', color='blue')\n",
    "\n",
    "plt.title('WMT16-L0_Loss-Transformer')\n",
    "plt.xlabel('Iterations')\n",
    "plt.ylabel('Loss')\n",
    "plt.legend()\n",
    "\n",
    "plt.savefig('../Plots/S_model_L0loss_WMT_constLAM02.png')\n",
    "plt.show()"
   ]
  },
  {
   "cell_type": "markdown",
   "id": "ce51264a",
   "metadata": {},
   "source": [
    "$\\lambda = 0.1 $ のとき"
   ]
  },
  {
   "cell_type": "code",
   "execution_count": 8,
   "id": "8d4d5ded",
   "metadata": {},
   "outputs": [],
   "source": [
    "max_iter = 10000\n",
    "interval = 10"
   ]
  },
  {
   "cell_type": "code",
   "execution_count": 9,
   "id": "bf278010",
   "metadata": {},
   "outputs": [],
   "source": [
    "S_enc = Transformer_Encoder(embedding_size, vocab_size_src).cuda(0)\n",
    "S_dec = Transformer_Decoder(embedding_size, vocab_size_tgt).cuda(1)\n",
    "S_fc = Transformer_Linear(embedding_size, vocab_size_tgt).cuda(2)\n",
    "\n",
    "S_enc.load_state_dict(torch.load('../Models/T_enc_init.pth'))\n",
    "S_dec.load_state_dict(torch.load('../Models/T_dec_init.pth'))\n",
    "S_fc.load_state_dict(torch.load('../Models/T_fc_init.pth'))\n",
    "\n",
    "criterion = nn.CrossEntropyLoss(ignore_index=PAD_IDX)\n",
    "optimizer = torch.optim.Adam([{'params': S_enc.parameters()},{'params': S_dec.parameters()},{'params': S_fc.parameters()}])"
   ]
  },
  {
   "cell_type": "code",
   "execution_count": 10,
   "id": "dc5f93a7",
   "metadata": {},
   "outputs": [
    {
     "name": "stderr",
     "output_type": "stream",
     "text": [
      "  4%|█▍                                     | 10000/260320 [8:02:06<201:08:17,  2.89s/it, best_loss=7.56, now_loss=7.56]\n"
     ]
    }
   ],
   "source": [
    "val_loss_list = []\n",
    "best_loss = float('inf')\n",
    "loss_list = []\n",
    "\n",
    "enc_gate = []\n",
    "dec_gate = []\n",
    "dec_gate2 = []\n",
    "\n",
    "lambda_ = 0.1\n",
    "\n",
    "with tqdm(train_loader) as pbar:\n",
    "    for i, (src, tgt) in enumerate(pbar):\n",
    "        if i == max_iter:\n",
    "            break\n",
    "        \n",
    "        S_enc.train()\n",
    "        S_dec.train()\n",
    "        S_fc.train()\n",
    "    \n",
    "        input_tgt = tgt[:-1, :]\n",
    "        mask_src, mask_tgt, padding_mask_src, padding_mask_tgt = create_mask(src, input_tgt, PAD_IDX)\n",
    "        \n",
    "        src = src.cuda(0)\n",
    "        mask_src = mask_src.cuda(0)\n",
    "        padding_mask_src = padding_mask_src.cuda(0)\n",
    "        memory, L0_loss_enc = S_enc(src, mask_src, padding_mask_src)\n",
    "    \n",
    "        memory = memory.cuda(1)\n",
    "        mask_tgt = mask_tgt.cuda(1)\n",
    "        padding_mask_tgt = padding_mask_tgt.cuda(1)\n",
    "        padding_mask_src = padding_mask_src.cuda(1)\n",
    "        input_tgt = tgt[:-1, :].cuda(1)\n",
    "        outs, L0_loss_dec = S_dec(input_tgt, memory, mask_tgt, padding_mask_tgt, padding_mask_src)\n",
    "    \n",
    "        outs = outs.cuda(2)\n",
    "        S_logits = S_fc(outs)\n",
    "        \n",
    "        for l in S_enc.transformer_encoder.layers:\n",
    "            enc_gate.append(l.self_attn.sparsity[1].detach().cpu())\n",
    "        for l in S_dec.transformer_decoder.layers:\n",
    "            dec_gate.append(l.self_attn.sparsity[1].detach().cpu())\n",
    "            dec_gate2.append(l.multihead_attn.sparsity[1].detach().cpu())\n",
    "    \n",
    "        optimizer.zero_grad()\n",
    "        output_tgt_ = tgt[1:, :].cuda(2)\n",
    "        loss = criterion(S_logits.reshape(-1, S_logits.shape[-1]), output_tgt_.reshape(-1)) + lambda_ * (L0_loss_enc.cuda(2) + L0_loss_dec.cuda(2))\n",
    "        loss.backward()\n",
    "    \n",
    "        optimizer.step()\n",
    "        loss_list.append(loss.item())\n",
    "    \n",
    "        if i % interval == 0:\n",
    "            S_enc.eval()\n",
    "            S_dec.eval()\n",
    "            S_fc.eval()\n",
    "        \n",
    "            v_loss = 0\n",
    "        \n",
    "            for src_, tgt_ in valid_loader:\n",
    "                input_tgt_ = tgt_[:-1, :]\n",
    "                mask_src_, mask_tgt_, padding_mask_src_, padding_mask_tgt_ = create_mask(src_, input_tgt_, PAD_IDX)\n",
    "            \n",
    "                src_ = src_.cuda(0)\n",
    "                mask_src_ = mask_src_.cuda(0)\n",
    "                padding_mask_src_ = padding_mask_src_.cuda(0)\n",
    "                memory_, L0_loss_enc_ = S_enc(src_, mask_src_, padding_mask_src_)\n",
    "            \n",
    "                memory_ = memory_.cuda(1)\n",
    "                mask_tgt_ = mask_tgt_.cuda(1)\n",
    "                padding_mask_tgt_ = padding_mask_tgt_.cuda(1)\n",
    "                padding_mask_src_ = padding_mask_src_.cuda(1)\n",
    "                input_tgt_ = tgt_[:-1, :].cuda(1)\n",
    "                outs_, L0_loss_dec_ = S_dec(input_tgt_, memory_, mask_tgt_, padding_mask_tgt_, padding_mask_src_)\n",
    "            \n",
    "                outs_ = outs_.cuda(2)\n",
    "                logits_ = S_fc(outs_)\n",
    "            \n",
    "                output_tgt_ = tgt_[1:, :].cuda(2)\n",
    "                loss_ = criterion(logits_.reshape(-1, logits_.shape[-1]), output_tgt_.reshape(-1)) + lambda_ * (L0_loss_enc_.cuda(2) + L0_loss_dec_.cuda(2))\n",
    "                v_loss += loss_.item()\n",
    "                \n",
    "            v_loss = v_loss / len(valid_loader)\n",
    "            val_loss_list.append(v_loss)\n",
    "        \n",
    "            if best_loss > v_loss:\n",
    "                best_loss = v_loss\n",
    "            \n",
    "                torch.save(S_enc.state_dict(), '../Models/S_enc_WMT_constLAM01.pth')\n",
    "                torch.save(S_dec.state_dict(), '../Models/S_dec_WMT_constLAM01.pth')\n",
    "                torch.save(S_fc.state_dict(), '../Models/S_fc_WMT_constLAM01.pth')\n",
    "                \n",
    "        pbar.set_postfix({\"best_loss\": best_loss, 'now_loss':v_loss})"
   ]
  },
  {
   "cell_type": "code",
   "execution_count": 11,
   "id": "3b3c7a3e",
   "metadata": {},
   "outputs": [],
   "source": [
    "def calc_sparsity(gate, num_heads=8, num_layers=6):\n",
    "    sum_heads = num_heads * num_layers\n",
    "    len_seq = len(gate) // num_layers\n",
    "    \n",
    "    data = []\n",
    "    for seq in range(len_seq):\n",
    "        sum_ = sum([sum(sum(gate[seq*num_layers: seq*num_layers+num_layers]))])\n",
    "        data.append(sum_)\n",
    "    data = np.array(data)\n",
    "    data /= sum_heads\n",
    "    \n",
    "    return data"
   ]
  },
  {
   "cell_type": "code",
   "execution_count": 12,
   "id": "1eb1286d",
   "metadata": {},
   "outputs": [
    {
     "data": {
      "image/png": "[encoded data removed]",
      "text/plain": [
       "<Figure size 432x288 with 1 Axes>"
      ]
     },
     "metadata": {
      "needs_background": "light"
     },
     "output_type": "display_data"
    }
   ],
   "source": [
    "seq_len = max_iter\n",
    "\n",
    "x = np.arange(1, seq_len + 1)\n",
    "enc_y = calc_sparsity(enc_gate)\n",
    "dec_y = calc_sparsity(dec_gate)\n",
    "dec_y2 = calc_sparsity(dec_gate2)\n",
    "\n",
    "plt.plot(x, enc_y, label='enc-sa', color='orange')\n",
    "plt.plot(x, dec_y, label='dec-sa', color='purple')\n",
    "plt.plot(x, dec_y2, label='dec-mha', color='green')\n",
    "\n",
    "plt.xlabel('Iterations')\n",
    "plt.ylabel('Sparsity')\n",
    "\n",
    "plt.legend()\n",
    "\n",
    "plt.show()"
   ]
  },
  {
   "cell_type": "code",
   "execution_count": 13,
   "id": "e16157cc",
   "metadata": {},
   "outputs": [
    {
     "data": {
      "image/png": "[encoded data removed]",
      "text/plain": [
       "<Figure size 432x288 with 1 Axes>"
      ]
     },
     "metadata": {
      "needs_background": "light"
     },
     "output_type": "display_data"
    }
   ],
   "source": [
    "seq_len = max_iter\n",
    "\n",
    "x = np.arange(1, seq_len + 1)\n",
    "y = calc_sparsity(enc_gate) + calc_sparsity(dec_gate) + calc_sparsity(dec_gate2)\n",
    "y /= 3.0\n",
    "\n",
    "plt.plot(x, y, color='red')\n",
    "\n",
    "plt.xlabel('Iterations')\n",
    "plt.ylabel('Sparsity')\n",
    "\n",
    "plt.show()"
   ]
  },
  {
   "cell_type": "code",
   "execution_count": 14,
   "id": "e765d7e4",
   "metadata": {},
   "outputs": [
    {
     "data": {
      "image/png": "[encoded data removed]",
      "text/plain": [
       "<Figure size 432x288 with 1 Axes>"
      ]
     },
     "metadata": {
      "needs_background": "light"
     },
     "output_type": "display_data"
    }
   ],
   "source": [
    "train_x = np.arange(1, len(loss_list)+1)\n",
    "valid_x = np.arange(1, len(val_loss_list)+1) * 10\n",
    "\n",
    "train_loss_list = np.array(loss_list)\n",
    "val_loss_list = np.array(val_loss_list)\n",
    "\n",
    "plt.plot(train_x, train_loss_list, label='CrossEn', color='red')\n",
    "plt.plot(valid_x, val_loss_list, label='Valid', color='blue')\n",
    "\n",
    "plt.title('WMT16-L0_Loss-Transformer')\n",
    "plt.xlabel('Iterations')\n",
    "plt.ylabel('Loss')\n",
    "plt.legend()\n",
    "\n",
    "plt.savefig('../Plots/S_model_L0loss_WMT_constLAM01.png')\n",
    "plt.show()"
   ]
  },
  {
   "cell_type": "markdown",
   "id": "9a8701bc",
   "metadata": {},
   "source": [
    "$\\lambda = 0.3$"
   ]
  },
  {
   "cell_type": "code",
   "execution_count": null,
   "id": "73892f6e",
   "metadata": {},
   "outputs": [],
   "source": [
    "max_iter = 10000\n",
    "interval = 10"
   ]
  },
  {
   "cell_type": "code",
   "execution_count": null,
   "id": "0e0a0dda",
   "metadata": {},
   "outputs": [],
   "source": [
    "S_enc = Transformer_Encoder(embedding_size, vocab_size_src).cuda(0)\n",
    "S_dec = Transformer_Decoder(embedding_size, vocab_size_tgt).cuda(1)\n",
    "S_fc = Transformer_Linear(embedding_size, vocab_size_tgt).cuda(2)\n",
    "\n",
    "S_enc.load_state_dict(torch.load('../Models/T_enc_init.pth'))\n",
    "S_dec.load_state_dict(torch.load('../Models/T_dec_init.pth'))\n",
    "S_fc.load_state_dict(torch.load('../Models/T_fc_init.pth'))\n",
    "\n",
    "criterion = nn.CrossEntropyLoss(ignore_index=PAD_IDX)\n",
    "optimizer = torch.optim.Adam([{'params': S_enc.parameters()},{'params': S_dec.parameters()},{'params': S_fc.parameters()}])"
   ]
  },
  {
   "cell_type": "code",
   "execution_count": null,
   "id": "9eb6b8a7",
   "metadata": {},
   "outputs": [],
   "source": [
    "val_loss_list = []\n",
    "best_loss = float('inf')\n",
    "loss_list = []\n",
    "\n",
    "enc_gate = []\n",
    "dec_gate = []\n",
    "dec_gate2 = []\n",
    "\n",
    "lambda_ = 0.3\n",
    "\n",
    "with tqdm(train_loader) as pbar:\n",
    "    for i, (src, tgt) in enumerate(pbar):\n",
    "        if i == max_iter:\n",
    "            break\n",
    "        \n",
    "        S_enc.train()\n",
    "        S_dec.train()\n",
    "        S_fc.train()\n",
    "    \n",
    "        input_tgt = tgt[:-1, :]\n",
    "        mask_src, mask_tgt, padding_mask_src, padding_mask_tgt = create_mask(src, input_tgt, PAD_IDX)\n",
    "        \n",
    "        src = src.cuda(0)\n",
    "        mask_src = mask_src.cuda(0)\n",
    "        padding_mask_src = padding_mask_src.cuda(0)\n",
    "        memory, L0_loss_enc = S_enc(src, mask_src, padding_mask_src)\n",
    "    \n",
    "        memory = memory.cuda(1)\n",
    "        mask_tgt = mask_tgt.cuda(1)\n",
    "        padding_mask_tgt = padding_mask_tgt.cuda(1)\n",
    "        padding_mask_src = padding_mask_src.cuda(1)\n",
    "        input_tgt = tgt[:-1, :].cuda(1)\n",
    "        outs, L0_loss_dec = S_dec(input_tgt, memory, mask_tgt, padding_mask_tgt, padding_mask_src)\n",
    "    \n",
    "        outs = outs.cuda(2)\n",
    "        S_logits = S_fc(outs)\n",
    "        \n",
    "        for l in S_enc.transformer_encoder.layers:\n",
    "            enc_gate.append(l.self_attn.sparsity[1].detach().cpu())\n",
    "        for l in S_dec.transformer_decoder.layers:\n",
    "            dec_gate.append(l.self_attn.sparsity[1].detach().cpu())\n",
    "            dec_gate2.append(l.multihead_attn.sparsity[1].detach().cpu())\n",
    "    \n",
    "        optimizer.zero_grad()\n",
    "        output_tgt_ = tgt[1:, :].cuda(2)\n",
    "        loss = criterion(S_logits.reshape(-1, S_logits.shape[-1]), output_tgt_.reshape(-1)) + lambda_ * (L0_loss_enc.cuda(2) + L0_loss_dec.cuda(2))\n",
    "        loss.backward()\n",
    "    \n",
    "        optimizer.step()\n",
    "        loss_list.append(loss.item())\n",
    "    \n",
    "        if i % interval == 0:\n",
    "            S_enc.eval()\n",
    "            S_dec.eval()\n",
    "            S_fc.eval()\n",
    "        \n",
    "            v_loss = 0\n",
    "        \n",
    "            for src_, tgt_ in valid_loader:\n",
    "                input_tgt_ = tgt_[:-1, :]\n",
    "                mask_src_, mask_tgt_, padding_mask_src_, padding_mask_tgt_ = create_mask(src_, input_tgt_, PAD_IDX)\n",
    "            \n",
    "                src_ = src_.cuda(0)\n",
    "                mask_src_ = mask_src_.cuda(0)\n",
    "                padding_mask_src_ = padding_mask_src_.cuda(0)\n",
    "                memory_, L0_loss_enc_ = S_enc(src_, mask_src_, padding_mask_src_)\n",
    "            \n",
    "                memory_ = memory_.cuda(1)\n",
    "                mask_tgt_ = mask_tgt_.cuda(1)\n",
    "                padding_mask_tgt_ = padding_mask_tgt_.cuda(1)\n",
    "                padding_mask_src_ = padding_mask_src_.cuda(1)\n",
    "                input_tgt_ = tgt_[:-1, :].cuda(1)\n",
    "                outs_, L0_loss_dec_ = S_dec(input_tgt_, memory_, mask_tgt_, padding_mask_tgt_, padding_mask_src_)\n",
    "            \n",
    "                outs_ = outs_.cuda(2)\n",
    "                logits_ = S_fc(outs_)\n",
    "            \n",
    "                output_tgt_ = tgt_[1:, :].cuda(2)\n",
    "                loss_ = criterion(logits_.reshape(-1, logits_.shape[-1]), output_tgt_.reshape(-1)) + lambda_ * (L0_loss_enc_.cuda(2) + L0_loss_dec_.cuda(2))\n",
    "                v_loss += loss_.item()\n",
    "                \n",
    "            v_loss = v_loss / len(valid_loader)\n",
    "            val_loss_list.append(v_loss)\n",
    "        \n",
    "            if best_loss > v_loss:\n",
    "                best_loss = v_loss\n",
    "            \n",
    "                torch.save(S_enc.state_dict(), '../Models/S_enc_WMT_constLAM03.pth')\n",
    "                torch.save(S_dec.state_dict(), '../Models/S_dec_WMT_constLAM03.pth')\n",
    "                torch.save(S_fc.state_dict(), '../Models/S_fc_WMT_constLAM03.pth')\n",
    "                \n",
    "        pbar.set_postfix({\"best_loss\": best_loss, 'now_loss':v_loss})"
   ]
  },
  {
   "cell_type": "code",
   "execution_count": null,
   "id": "2bb6b6d9",
   "metadata": {},
   "outputs": [],
   "source": [
    "seq_len = max_iter\n",
    "\n",
    "x = np.arange(1, seq_len + 1)\n",
    "enc_y = calc_sparsity(enc_gate)\n",
    "dec_y = calc_sparsity(dec_gate)\n",
    "dec_y2 = calc_sparsity(dec_gate2)\n",
    "\n",
    "plt.plot(x, enc_y, label='enc-sa', color='orange')\n",
    "plt.plot(x, dec_y, label='dec-sa', color='purple')\n",
    "plt.plot(x, dec_y2, label='dec-mha', color='green')\n",
    "\n",
    "plt.xlabel('Iterations')\n",
    "plt.ylabel('Sparsity')\n",
    "\n",
    "plt.legend()\n",
    "\n",
    "plt.show()"
   ]
  },
  {
   "cell_type": "code",
   "execution_count": null,
   "id": "376911d9",
   "metadata": {},
   "outputs": [],
   "source": [
    "seq_len = max_iter\n",
    "\n",
    "x = np.arange(1, seq_len + 1)\n",
    "y = calc_sparsity(enc_gate) + calc_sparsity(dec_gate) + calc_sparsity(dec_gate2)\n",
    "y /= 3.0\n",
    "\n",
    "plt.plot(x, y, color='red')\n",
    "\n",
    "plt.xlabel('Iterations')\n",
    "plt.ylabel('Sparsity')\n",
    "\n",
    "plt.show()"
   ]
  },
  {
   "cell_type": "code",
   "execution_count": null,
   "id": "5e0feb4a",
   "metadata": {},
   "outputs": [],
   "source": [
    "train_x = np.arange(1, len(loss_list)+1)\n",
    "valid_x = np.arange(1, len(val_loss_list)+1) * 10\n",
    "\n",
    "train_loss_list = np.array(loss_list)\n",
    "val_loss_list = np.array(val_loss_list)\n",
    "\n",
    "plt.plot(train_x, train_loss_list, label='CrossEn', color='red')\n",
    "plt.plot(valid_x, val_loss_list, label='Valid', color='blue')\n",
    "\n",
    "plt.title('WMT16-L0_Loss-Transformer')\n",
    "plt.xlabel('Iterations')\n",
    "plt.ylabel('Loss')\n",
    "plt.legend()\n",
    "\n",
    "plt.savefig('../Plots/S_model_L0loss_WMT_constLAM03.png')\n",
    "plt.show()"
   ]
  },
  {
   "cell_type": "code",
   "execution_count": null,
   "id": "966ea630",
   "metadata": {},
   "outputs": [],
   "source": []
  },
  {
   "cell_type": "code",
   "execution_count": null,
   "id": "c2a0e15e",
   "metadata": {},
   "outputs": [],
   "source": []
  },
  {
   "cell_type": "code",
   "execution_count": null,
   "id": "0df586c4",
   "metadata": {},
   "outputs": [],
   "source": []
  }
 ],
 "metadata": {
  "kernelspec": {
   "display_name": "Python 3 (ipykernel)",
   "language": "python",
   "name": "python3"
  },
  "language_info": {
   "codemirror_mode": {
    "name": "ipython",
    "version": 3
   },
   "file_extension": ".py",
   "mimetype": "text/x-python",
   "name": "python",
   "nbconvert_exporter": "python",
   "pygments_lexer": "ipython3",
   "version": "3.8.10"
  }
 },
 "nbformat": 4,
 "nbformat_minor": 5
}
