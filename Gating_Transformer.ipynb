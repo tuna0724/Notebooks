{
 "cells": [
  {
   "cell_type": "code",
   "execution_count": 1,
   "id": "fade7d17",
   "metadata": {},
   "outputs": [],
   "source": [
    "import math\n",
    "import csv\n",
    "import time\n",
    "from collections import Counter\n",
    "from tqdm import tqdm\n",
    "from typing import Optional, Tuple, Any, Union, Callable\n",
    "import numpy as np\n",
    "\n",
    "import torch\n",
    "import torch.nn as nn\n",
    "import torch.nn.functional as F\n",
    "import torchtext\n",
    "from torch import Tensor\n",
    "\n",
    "import matplotlib.pyplot as plt\n",
    "from collections import OrderedDict\n",
    "\n",
    "from utils import *"
   ]
  },
  {
   "cell_type": "markdown",
   "id": "5dd0701b",
   "metadata": {},
   "source": [
    "加工済みの WMT16 (de->en) を読み込みます．\n",
    "関数の詳細は utils.py を参照してください．\n",
    "- WMT16 の加工は別プログラムで実行（気が向いたときに説明を記載します）\n",
    "\n",
    "実行内容\n",
    "- CSV ファイルからデータセットを読み込む\n",
    "- トークナイズ\n",
    "- ボキャブラリー統計\n",
    "- データローダの作成\n",
    "完了まで約５分くらかかります．"
   ]
  },
  {
   "cell_type": "code",
   "execution_count": 2,
   "id": "0913541d",
   "metadata": {
    "scrolled": true
   },
   "outputs": [
    {
     "name": "stderr",
     "output_type": "stream",
     "text": [
      "4165231it [00:34, 119540.13it/s]\n",
      "4165113it [00:36, 113568.55it/s]\n",
      "2169it [00:00, 291360.66it/s]\n",
      "2169it [00:00, 270588.19it/s]\n",
      "100%|██████████| 4165113/4165113 [00:20<00:00, 200405.24it/s]\n",
      "100%|██████████| 4165231/4165231 [00:19<00:00, 210675.15it/s]\n",
      "4165113it [04:13, 16411.99it/s]\n",
      "2169it [00:00, 20221.31it/s]\n"
     ]
    }
   ],
   "source": [
    "en_train_path = '../Datasets/custom_wmt16/train_en.csv'\n",
    "de_train_path = '../Datasets/custom_wmt16/train_de.csv'\n",
    "\n",
    "en_valid_path = '../Datasets/custom_wmt16/val_en.csv'\n",
    "de_valid_path = '../Datasets/custom_wmt16/val_de.csv'\n",
    "\n",
    "en_train_data = load_data(en_train_path)\n",
    "de_train_data = load_data(de_train_path)\n",
    "\n",
    "en_valid_data = load_data(en_valid_path)\n",
    "de_valid_data = load_data(de_valid_path)\n",
    "\n",
    "tokenizer_de = torchtext.data.utils.get_tokenizer('spacy', language='de_core_news_sm')\n",
    "tokenizer_en = torchtext.data.utils.get_tokenizer('spacy', language='en_core_web_sm')\n",
    "\n",
    "vocab_de = build_vocab(de_train_data)\n",
    "vocab_en = build_vocab(en_train_data)\n",
    "vocab_de.set_default_index(vocab_de['<unk>'])\n",
    "vocab_en.set_default_index(vocab_en['<unk>'])\n",
    "\n",
    "train_data = data_process(\n",
    "    texts_src=de_train_data, texts_tgt=en_train_data,\n",
    "    vocab_src=vocab_de, vocab_tgt=vocab_en\n",
    ")\n",
    "\n",
    "valid_data = data_process(\n",
    "    texts_src=de_valid_data, texts_tgt=en_valid_data,\n",
    "    vocab_src=vocab_de, vocab_tgt=vocab_en\n",
    ")\n",
    "\n",
    "batch_size = 16\n",
    "PAD_IDX = vocab_de['<pad>']\n",
    "START_IDX = vocab_de['<start>']\n",
    "END_IDX = vocab_de['<end>']\n",
    "\n",
    "train_loader = torch.utils.data.DataLoader(train_data, batch_size=batch_size, shuffle=True, collate_fn=batch_generator)\n",
    "valid_loader = torch.utils.data.DataLoader(valid_data, batch_size=batch_size, shuffle=True, collate_fn=batch_generator)"
   ]
  },
  {
   "cell_type": "markdown",
   "id": "28f8e0e2",
   "metadata": {},
   "source": [
    "0 または 1 を出力する BinaryGate クラス\n",
    "- Encoder と Decoder それぞれに組み込まれています"
   ]
  },
  {
   "cell_type": "code",
   "execution_count": 3,
   "id": "405d533f",
   "metadata": {},
   "outputs": [],
   "source": [
    "class BinaryGate(nn.Module):\n",
    "    \n",
    "    def __init__(self, num_gates: int, init: float=0.0, beta: float=0.667, gamma: float=-0.1, zeta: float=1.0,\n",
    "                 hard: bool=True, *, name: Optional[str]=None, device=None, dtype=None\n",
    "                ):\n",
    "        \n",
    "        factory_kwargs = {'device': device, 'dtype': dtype}\n",
    "        super(BinaryGate, self).__init__()\n",
    "        \n",
    "        self.num_gates = num_gates\n",
    "    \n",
    "        self.gate = nn.parameter.Parameter(torch.zeros(num_gates, **factory_kwargs).fill_(init))\n",
    "        #self.noise = torch.zeros(num_gates, **factory_kwargs)\n",
    "    \n",
    "    def forward(self, beta=0.667, gamma=-0.1, zeta = 1.0, \n",
    "                hard = True, eps = 1e-6, threshold=0.5) -> Tuple[Tensor, Tensor, Tuple[Tensor, int]]:\n",
    "        \n",
    "        loss_constant = (beta * math.log(-gamma / zeta)) if (gamma < 0) else 0.0\n",
    "        \n",
    "        if self.training:\n",
    "            noise = torch.zeros(self.num_gates)\n",
    "            noise = noise.cuda(self.gate.device)\n",
    "            \n",
    "            noise.data.uniform_(eps, 1 - eps)\n",
    "            u = noise.data\n",
    "            \n",
    "            s = torch.log(u) - torch.log(1.0 - u)\n",
    "            \n",
    "            s = (s + self.gate) / beta\n",
    "            s = torch.sigmoid(s)\n",
    "        else:\n",
    "            s = torch.sigmoid(self.gate)\n",
    "        \n",
    "        s = s * (zeta - gamma) + gamma\n",
    "        out = torch.clamp(s, eps, 1)\n",
    "        \n",
    "        if hard:\n",
    "            out_hard = torch.greater_equal(out, threshold).float()\n",
    "            out = out + (out_hard - out).detach()\n",
    "            sparsity = torch.eq(out, 0).sum()\n",
    "        else:\n",
    "            sparsity = torch.less(out, threshold).float().sum()\n",
    "        \n",
    "        l0_loss = torch.sigmoid(self.gate - loss_constant)\n",
    "        l0_loss = torch.clamp(l0_loss, eps, 1.0 - eps).sum()\n",
    "        \n",
    "        return out, l0_loss, (sparsity.detach().cpu(), self.num_gates)"
   ]
  },
  {
   "cell_type": "markdown",
   "id": "faed702c",
   "metadata": {},
   "source": [
    "Pytorch 公式の multi_head_attention_forward を改造してあります"
   ]
  },
  {
   "cell_type": "code",
   "execution_count": 4,
   "id": "8058d6c7",
   "metadata": {},
   "outputs": [],
   "source": [
    "def multi_head_attention_forward(query: Tensor, key: Tensor, value: Tensor,\n",
    "                                 embed_dim_to_check: int, num_heads: int,\n",
    "                                 in_proj_weight: Optional[Tensor], in_proj_bias: Optional[Tensor],\n",
    "                                 bias_k: Optional[Tensor], bias_v: Optional[Tensor],\n",
    "                                 add_zero_attn: bool, dropout_p: float,\n",
    "                                 out_proj_weight: Tensor, out_proj_bias: Optional[Tensor],\n",
    "                                 training: bool=True, key_padding_mask: Optional[Tensor]=None,\n",
    "                                 need_weights: bool=True, attn_mask: Optional[Tensor]=None,\n",
    "                                 use_separate_proj_weight: bool=False,\n",
    "                                 q_proj_weight: Optional[Tensor]=None, k_proj_weight: Optional[Tensor]=None, \n",
    "                                 v_proj_weight: Optional[Tensor]=None,\n",
    "                                 static_k: Optional[Tensor]=None, static_v: Optional[Tensor]=None,\n",
    "                                 average_attn_weights: bool=True,\n",
    "                                 gate: Optional[Tensor]=None,\n",
    "                                ) -> Tuple[Tensor, Optional[Tensor]]:\n",
    "    \n",
    "    tens_ops = (query, key, value, in_proj_weight, in_proj_bias, bias_k, bias_v, out_proj_weight, out_proj_bias)\n",
    "    if F.has_torch_function(tens_ops):\n",
    "        return F.handle_torch_function(multi_head_attention_forward,\n",
    "                                       tens_ops, query, key, value,\n",
    "                                       embed_dim_to_check, num_heads, in_proj_weight, in_proj_bias,\n",
    "                                       bias_k, bias_v, add_zero_attn, dropout_p,\n",
    "                                       out_proj_weight, out_proj_bias, training=training,\n",
    "                                       key_padding_mask=key_padding_mask, need_weights=need_weights,\n",
    "                                       attn_mask=attn_mask, use_separate_proj_weight=use_separate_proj_weight,\n",
    "                                       q_proj_weight=q_proj_weight, k_proj_weight=k_proj_weight, v_proj_weight=v_proj_weight,\n",
    "                                       static_k=static_k, static_v=static_v,\n",
    "                                       average_attn_weights=average_attn_weights,\n",
    "                                      )\n",
    "    is_batched = F._mha_shape_check(query, key,value, key_padding_mask, attn_mask, num_heads)\n",
    "    \n",
    "    tgt_len, bsz, embed_dim = query.shape\n",
    "    src_len, _, _ = key.shape\n",
    "    \n",
    "    if isinstance(embed_dim, Tensor):\n",
    "        head_dim = embed_dim.div(num_heads, rounding_mode='trunc')\n",
    "    else:\n",
    "        head_dim = embed_dim // num_heads\n",
    "    \n",
    "    if not use_separate_proj_weight:\n",
    "        q, k, v = F._in_projection_packed(query, key, value, in_proj_weight, in_proj_bias)\n",
    "    else:\n",
    "        if in_proj_bias is None:\n",
    "            b_q = b_k = b_v = None\n",
    "        else:\n",
    "            b_q, b_k, b_v = in_proj_bias.chunk(3)\n",
    "        q, k, v = F._in_projection(query, key, value, q_proj_weight, k_proj_weight, v_proj_weight, b_q, b_k, b_v)\n",
    "    \n",
    "    if attn_mask is not None:\n",
    "        if attn_mask.dtype == torch.uint8:\n",
    "            attn_mask = attn_mask.to(torch.bool)\n",
    "    \n",
    "        if attn_mask.dim() == 2:\n",
    "            correct_2d_size = (tgt_len, src_len)\n",
    "            attn_mask = attn_mask.unsqueeze(0)\n",
    "        elif attn_mask.dim() == 3:\n",
    "            correct_3d_size = (bsz * num_heads, tgt_len, src_len)\n",
    "        \n",
    "    if key_padding_mask is not None and key_padding_mask.dtype == torch.uint8:\n",
    "        key_padding_mask = key_padding_mask.to(torch.bool)\n",
    "    \n",
    "    if bias_k is not None and bias_v is not None:\n",
    "        k = torch.cat([k, bias_k.repeat(1, bsz, 1)])\n",
    "        v = torch.cat([v, bias_v.repeat(1, bsz, 1)])\n",
    "        \n",
    "        if attn_mask is not None:\n",
    "            attn_mask = F.pad(attn_maskn_mask, (0, 1))\n",
    "        if key_padding_maske is not None:\n",
    "            key_padding_mask = F.pad(key_padding_mask, (0, 1))\n",
    "    \n",
    "    q = q.contiguous().view(tgt_len, bsz * num_heads, head_dim).transpose(0, 1)\n",
    "    if static_k is None:\n",
    "        k = k.contiguous().view(k.shape[0], bsz * num_heads, head_dim).transpose(0, 1)\n",
    "    else:\n",
    "        k = static_k\n",
    "    \n",
    "    if static_v is None:\n",
    "        v = v.contiguous().view(v.shape[0], bsz * num_heads, head_dim).transpose(0, 1)\n",
    "    else:\n",
    "        v = static_v\n",
    "    \n",
    "    if add_zero_attn:\n",
    "        zero_attn_shape = (bsz * num_heads, 1, head_dim)\n",
    "        k = torch.cat([k, torch.zeros(zero_attn_shape, dtype=k.dtype, device=k.device)], dim=1)\n",
    "        v = torch.cat([v, torch.zeros(zero_attn_shape, dtype=v.dtype, device=v.device)], dim=1)\n",
    "        if attn_mask is not None:\n",
    "            attn_mask = F.pad(attn_mask, (0, 1))\n",
    "        if key_padding_mask is not None:\n",
    "            key_padding_mask = F.pad(key_padding_mask, (0, 1))\n",
    "    \n",
    "    src_len = k.size(1)\n",
    "    \n",
    "    if key_padding_mask is not None:\n",
    "        key_padding_mask = key_padding_mask.view(bsz, 1, 1, src_len).expand(-1, num_heads, -1, -1).reshape(bsz * num_heads, 1, src_len)\n",
    "    if attn_mask is None:\n",
    "        attn_mask = key_padding_mask\n",
    "    elif attn_mask.dtype == torch.bool:\n",
    "        attn_mask = attn_mask.logical_or(key_padding_mask)\n",
    "    else:\n",
    "        attn_mask = attn_mask.masked_fill(key_padding_mask, float('-inf'))\n",
    "    \n",
    "    if attn_mask is not None and attn_mask.dtype == torch.bool:\n",
    "        new_attn_mask = torch.zeros_like(attn_mask, dtype=q.dtype)\n",
    "        new_attn_mask.masked_fill_(attn_mask, float('-inf'))\n",
    "        attn_mask = new_attn_mask\n",
    "        \n",
    "    if not training:\n",
    "        dropout_p = 0.0\n",
    "    \n",
    "    attn_output, attn_output_weights = F._scaled_dot_product_attention(q, k, v, attn_mask, dropout_p)\n",
    "    attn_output = attn_output.transpose(0, 1).contiguous().view(tgt_len * bsz, embed_dim)\n",
    "    \n",
    "    if gate is not None:\n",
    "        attn_output = attn_output * gate\n",
    "    \n",
    "    attn_output = F.linear(attn_output, out_proj_weight, out_proj_bias)\n",
    "    attn_output = attn_output.view(tgt_len, bsz, attn_output.size(1))\n",
    "    \n",
    "    if need_weights:\n",
    "        attn_output_weights = attn_output_weights.view(bsz, num_heads, tgt_len, src_len)\n",
    "        if average_attn_weights:\n",
    "            attn_output_weights = attn_output_weights.sum(dim=1) / num_heads\n",
    "        \n",
    "        if not is_batched:\n",
    "            attn_output = attn_output.squeeze(1)\n",
    "            attn_output_weights = attn_output_weights.squeeze(0)\n",
    "        return attn_output, attn_output_weights\n",
    "    else:\n",
    "        if not is_batched:\n",
    "            attn_output = attn_output.squeeze(1)\n",
    "        return attn_output, None"
   ]
  },
  {
   "cell_type": "markdown",
   "id": "63d39ee9",
   "metadata": {},
   "source": [
    "multi_head_attention_forward を適用した MultiheadAttention クラス\n",
    "- forward で引数に Gate の出力値を受け取ります"
   ]
  },
  {
   "cell_type": "code",
   "execution_count": 5,
   "id": "ce02b92f",
   "metadata": {},
   "outputs": [],
   "source": [
    "class MultiheadAttention(nn.Module):\n",
    "    __constants__ = ['batch_first']\n",
    "    bias_k: Optional[Tensor]\n",
    "    bias_v: Optional[Tensor]\n",
    "        \n",
    "    def __init__(self, \n",
    "                 embed_dim: int=512, num_heads: int=8,\n",
    "                 dropout: float=0.0, bias: bool=True, add_bias_kv: bool=False, add_zero_attn: bool=False,\n",
    "                 kdim=None, vdim=None, batch_first: bool=False, device=None, dtype=None\n",
    "                ) -> None:\n",
    "        factory_kwargs = {'device': device, 'dtype': dtype}\n",
    "        super(MultiheadAttention, self).__init__()\n",
    "        \n",
    "        self.embed_dim = embed_dim\n",
    "        self.kdim = kdim if kdim is not None else embed_dim\n",
    "        self.vdim = vdim if vdim is not None else embed_dim\n",
    "        self._qkv_same_embed_dim = self.kdim == embed_dim and self.vdim == embed_dim\n",
    "        \n",
    "        self.num_heads = num_heads\n",
    "        self.dropout = dropout\n",
    "        self.batch_first = batch_first\n",
    "        self.head_dim = embed_dim // num_heads\n",
    "        \n",
    "        if self._qkv_same_embed_dim is False:\n",
    "            self.q_proj_weight = nn.parameter.Parameter(torch.empty((embed_dim, embed_dim), **factory_kwargs))\n",
    "            self.k_proj_weight = nn.parameter.Parameter(torch.empty((embed_dim, self.kdim), **factory_kwargs))\n",
    "            self.v_proj_weight = nn.parameter.Parameter(torch.empty((embed_dim, self.vdim), **factory_kwargs))\n",
    "            self.register_parameter('in_proj_weight', None)\n",
    "            self.in_proj_weight = nn.parameter.Parameter(torch.empty((3 * embed_dim, embed_dim), **factory_kwargs))\n",
    "            self.register_parameter('q_proj_weight', None)\n",
    "            self.register_parameter('k_proj_weight', None)\n",
    "            self.register_parameter('v_proj_weight', None)\n",
    "        else:\n",
    "            self.in_proj_weight = nn.parameter.Parameter(torch.empty((3 * embed_dim, embed_dim)))\n",
    "        \n",
    "        if bias:\n",
    "            self.in_proj_bias = nn.parameter.Parameter(torch.empty(3 * embed_dim, **factory_kwargs))\n",
    "        else:\n",
    "            self.register_parameter('in_proj_bias', None)\n",
    "        self.out_proj = nn.modules.linear.NonDynamicallyQuantizableLinear(embed_dim, embed_dim, bias=bias, **factory_kwargs)\n",
    "        \n",
    "        if add_bias_kv:\n",
    "            self.bias_k = nn.parameter.Parameter(torch.empty((1, 1, embed_dim), **factory_kwargs))\n",
    "            self.bias_v = nn.parameter.Parameter(torch.empty((1, 1, embed_dim), **factory_kwargs))\n",
    "        else:\n",
    "            self.bias_k = self.bias_v = None\n",
    "        \n",
    "        self.add_zero_attn = add_zero_attn\n",
    "        self._reset_parameters()\n",
    "    \n",
    "    def _reset_parameters(self):\n",
    "        if self._qkv_same_embed_dim:\n",
    "            nn.init.xavier_uniform_(self.in_proj_weight)\n",
    "        else:\n",
    "            nn.init.xavier_uniform_(self.q_proj_weight)\n",
    "            nn.init.xavier_uniform_(self.k_proj_weight)\n",
    "            nn.init.xavier_uniform_(self.v_proj_weight)\n",
    "        \n",
    "        if self.in_proj_bias is not None:\n",
    "            nn.init.constant_(self.in_proj_bias, 0.0)\n",
    "            nn.init.constant_(self.out_proj.bias, 0.0)\n",
    "        \n",
    "        if self.bias_k is not None:\n",
    "            nn.init.xavier_normal_(self.bias_k)\n",
    "        if self.bias_v is not None:\n",
    "            nn.init.xavier_normal_(self.bias_v)\n",
    "            \n",
    "    def __setstate__(self, state):\n",
    "        if '_qkv_same_embed_dim' not in state:\n",
    "            state['_qkv_same_embed_dim'] = True\n",
    "        \n",
    "        super(MultiheadAttention, self).__setstate__(state)\n",
    "    \n",
    "    def forward(self, query: Tensor, key: Tensor, value: Tensor, \n",
    "                key_padding_mask: Optional[Tensor]=None, need_weights: bool=True, attn_mask: Optional[Tensor]=None,\n",
    "                average_attn_weights: bool=True, gate: Optional[Tensor] = None\n",
    "               ) -> Tuple[Tensor, Optional[Tensor]]:\n",
    "        \n",
    "        if gate is not None:\n",
    "            gate_ = torch.cat([gate[i].repeat(self.head_dim) for i in range(len(gate))])\n",
    "        \n",
    "        is_batched = query.dim() == 3\n",
    "        if self.batch_first and is_batched:\n",
    "            query, key, value = [x.transpose(1, 0) for x in (query, key, value)]\n",
    "        \n",
    "        if not self._qkv_same_embed_dim:\n",
    "            attn_output, attn_output_weights = multi_head_attention_forward(query, key, value,\n",
    "                                                                            self.embed_dim, self.num_heads,\n",
    "                                                                            self.in_proj_weight, self.in_proj_bias,\n",
    "                                                                            self.bias_k, self.bias_v, self.add_zero_attn,\n",
    "                                                                            self.dropout, self.out_proj.weight, self.out_proj.bias,\n",
    "                                                                            training=training,\n",
    "                                                                            key_padding_mask=key_padding_mask, need_weights=need_weights,\n",
    "                                                                            attn_mask=attn_mask, use_separate_proj_weight=True,\n",
    "                                                                            q_proj_weight=self.q_proj_weight, k_proj_weight=self.k_proj_weight,\n",
    "                                                                            v_proj_weight=self.v_proj_weight, average_attn_weights=average_attn_weights,\n",
    "                                                                            gate=gate_\n",
    "                                                                           )\n",
    "        else:\n",
    "            attn_output, attn_output_weights = multi_head_attention_forward(query, key, value,\n",
    "                                                                            self.embed_dim, self.num_heads,\n",
    "                                                                            self.in_proj_weight, self.in_proj_bias,\n",
    "                                                                            self.bias_k, self.bias_v, self.add_zero_attn,\n",
    "                                                                            self.dropout, self.out_proj.weight, self.out_proj.bias,\n",
    "                                                                            training=self.training,\n",
    "                                                                            key_padding_mask=key_padding_mask, need_weights=need_weights,\n",
    "                                                                            attn_mask=attn_mask, average_attn_weights=average_attn_weights,\n",
    "                                                                            gate=gate_\n",
    "                                                                           )\n",
    "        \n",
    "        if self.batch_first and is_batched:\n",
    "            return attn_output.transpose(1, 0), attn_output_weights\n",
    "        else:\n",
    "            return attn_output, attn_output_weights"
   ]
  },
  {
   "cell_type": "markdown",
   "id": "2625b2a8",
   "metadata": {},
   "source": [
    "Encoder と Decoder の各層のクラス"
   ]
  },
  {
   "cell_type": "code",
   "execution_count": 6,
   "id": "2bfc02bf",
   "metadata": {},
   "outputs": [],
   "source": [
    "class TransformerEncoderLayer(nn.Module):\n",
    "    __constants__ = ['batch_first', 'norm_first']\n",
    "    \n",
    "    def __init__(self, d_model: int=512, nhead: int=8, dim_feedforward: int=2048,\n",
    "                 dropout: float=0.1, activation: Union[str, Callable[[Tensor], Tensor]]=F.relu,\n",
    "                 layer_norm_eps: float=1e-5, batch_first: bool=False, norm_first: bool=False,\n",
    "                 device=None, dtype=None\n",
    "                ) -> None:\n",
    "        factory_kwargs = {'device': device, 'dtype': dtype}\n",
    "        \n",
    "        super(TransformerEncoderLayer, self).__init__()\n",
    "        \n",
    "        self.self_attn_maps = []\n",
    "        \n",
    "        self.self_attn = MultiheadAttention(embed_dim=d_model, num_heads=nhead, \n",
    "                                            dropout=dropout, batch_first=batch_first, **factory_kwargs)\n",
    "        self.gate = BinaryGate(nhead, init=2.0, **factory_kwargs)\n",
    "        \n",
    "        self.linear1 = nn.Linear(d_model, dim_feedforward, **factory_kwargs)\n",
    "        self.dropout = nn.Dropout(dropout)\n",
    "        self.linear2 = nn.Linear(dim_feedforward, d_model, **factory_kwargs)\n",
    "        \n",
    "        self.norm_first = norm_first\n",
    "        self.norm1 = nn.LayerNorm(d_model, eps=layer_norm_eps, **factory_kwargs)\n",
    "        self.norm2 = nn.LayerNorm(d_model, eps=layer_norm_eps, **factory_kwargs)\n",
    "        self.dropout1 = nn.Dropout(dropout)\n",
    "        self.dropout2 = nn.Dropout(dropout)\n",
    "        \n",
    "        if isinstance(activation, str):\n",
    "            self.activation = nn.modules.transformer._get_activation_fn(activation)\n",
    "        else:\n",
    "            self.activation = activation\n",
    "            \n",
    "    def __setstate__(self, state):\n",
    "        if 'activation' not in state:\n",
    "            state['activation'] = F.relu\n",
    "        super(TransformerEncoderLayer, self).__setstate__(state)\n",
    "    \n",
    "    def forward(self, src: Tensor, src_mask: Optional[Tensor]=None, \n",
    "                src_key_padding_mask: Optional[Tensor]=None):\n",
    "        self.self_attn_maps = []\n",
    "        x = src\n",
    "        if self.norm_first:\n",
    "            x_, l0, sparsity = self._sa_block(self.norm1(x), src_mask, src_key_padding_mask)\n",
    "            x = x + self._ff_block(self.norm2(x + x_))\n",
    "        else:\n",
    "            x_, l0, sparsity = self._sa_block(x, src_mask, src_key_padding_mask)\n",
    "            x = self.norm1(x + x_)\n",
    "            x = self.norm2(x + self._ff_block(x))\n",
    "        \n",
    "        return x, l0, sparsity\n",
    "    \n",
    "    def _sa_block(self, x: Tensor,\n",
    "                  attn_mask: Optional[Tensor], key_padding_mask: Optional[Tensor]\n",
    "                 ):\n",
    "        \n",
    "        gate, l0, sparsity = self.gate()\n",
    "        x, w = self.self_attn(x, x, x,\n",
    "                           attn_mask=attn_mask,\n",
    "                           key_padding_mask=key_padding_mask,\n",
    "                           need_weights=True,\n",
    "                           average_attn_weights=False, gate=gate\n",
    "                          )\n",
    "        self.self_attn_maps.append(w)\n",
    "        \n",
    "        return self.dropout1(x), l0, sparsity\n",
    "    \n",
    "    def _ff_block(self, x: Tensor) -> Tensor:\n",
    "        x = self.linear2(self.dropout(self.activation(self.linear1(x))))\n",
    "        return self.dropout2(x)"
   ]
  },
  {
   "cell_type": "code",
   "execution_count": 7,
   "id": "3f51a750",
   "metadata": {},
   "outputs": [],
   "source": [
    "class TransformerDecoderLayer(nn.Module):\n",
    "    __constants__ = ['batch_first', 'norm_first']\n",
    "    \n",
    "    def __init__(self, d_model:int=512, nhead: int=8, \n",
    "                 dim_feedforward: int=2048, dropout: float=0.1,\n",
    "                 activation: Union[str, Callable[[Tensor], Tensor]]=F.relu,\n",
    "                 layer_norm_eps: float=1e-5, batch_first: bool=False, norm_first: bool=False,\n",
    "                 device=None, dtype=None\n",
    "                ) -> None:\n",
    "        factory_kwargs = {'device': device, 'dtype': dtype}\n",
    "        super(TransformerDecoderLayer, self).__init__()\n",
    "        \n",
    "        self.gate1 = BinaryGate(nhead, init=2.0, **factory_kwargs)\n",
    "        self.gate2 = BinaryGate(nhead, init=2.0, **factory_kwargs)\n",
    "        \n",
    "        self.self_attn = MultiheadAttention(d_model, nhead, dropout=dropout, batch_first=batch_first, **factory_kwargs)\n",
    "        self.multihead_attn = MultiheadAttention(d_model, nhead, dropout=dropout, batch_first=batch_first, **factory_kwargs)\n",
    "        \n",
    "        self.self_attn_maps = []\n",
    "        self.multi_attn_maps = []\n",
    "        \n",
    "        self.linear1 = nn.Linear(d_model, dim_feedforward, **factory_kwargs)\n",
    "        self.dropout = nn.Dropout(dropout)\n",
    "        self.linear2 = nn.Linear(dim_feedforward, d_model, **factory_kwargs)\n",
    "        \n",
    "        self.norm_first = norm_first\n",
    "        self.norm1 = nn.LayerNorm(d_model, eps=layer_norm_eps, **factory_kwargs)\n",
    "        self.norm2 = nn.LayerNorm(d_model, eps=layer_norm_eps, **factory_kwargs)\n",
    "        self.norm3 = nn.LayerNorm(d_model, eps=layer_norm_eps, **factory_kwargs)\n",
    "        self.dropout1 = nn.Dropout(dropout)\n",
    "        self.dropout2 = nn.Dropout(dropout)\n",
    "        self.dropout3 = nn.Dropout(dropout)\n",
    "        \n",
    "        if isinstance(activation, str):\n",
    "            self.activation = nn.modules.transformer._get_activation_fn(activation)\n",
    "        else:\n",
    "            self.activation = activation\n",
    "        \n",
    "    def __setstate__(self, state):\n",
    "        if 'activation' not in state:\n",
    "            state['activation'] = F.relu\n",
    "        super(TransformerDecoderLayer, self).__setstate__(state)\n",
    "    \n",
    "    def forward(self, tgt: Tensor, memory: Tensor, \n",
    "                tgt_mask: Optional[Tensor]=None, memory_mask: Optional[Tensor]=None,\n",
    "                tgt_key_padding_mask: Optional[Tensor]=None, memory_key_padding_mask: Optional[Tensor]=None\n",
    "               ):\n",
    "        \n",
    "        self.self_attn_maps = []\n",
    "        self.multi_attn_maps = []\n",
    "        \n",
    "        x = tgt\n",
    "        if self.norm_first:\n",
    "            x_, l0, sparsity = self._sa_block(self.norm1(x), tgt_mask, tgt_key_padding_mask)\n",
    "            x = x + x_\n",
    "            x_, l0_, sparsity_ = self._mha_block(self.norm2(x), memory, memory_mask, memory_key_padding_mask)\n",
    "            x = x + x_\n",
    "            x = x + self._ff_block(self.norm3(x))\n",
    "        else:\n",
    "            x_, l0, sparsity = self._sa_block(x, tgt_mask, tgt_key_padding_mask)\n",
    "            x = self.norm1(x + x_)\n",
    "            \n",
    "            x_, l0_, sparsity_ = self._mha_block(x, memory, memory_mask, memory_key_padding_mask)\n",
    "            x = self.norm2(x + x_)\n",
    "            x = self.norm3(x + self._ff_block(x))\n",
    "            \n",
    "        return x, l0+l0_, (sparsity, sparsity_)\n",
    "            \n",
    "        \n",
    "    def _sa_block(self, x: Tensor,\n",
    "                  attn_mask: Optional[Tensor], key_padding_mask: Optional[Tensor]\n",
    "                 ) -> Tensor:\n",
    "        \n",
    "        gate, l0, sparsity = self.gate1()\n",
    "        x, w = self.self_attn(x, x, x,\n",
    "                           attn_mask=attn_mask,\n",
    "                           key_padding_mask=key_padding_mask,\n",
    "                           average_attn_weights=False,\n",
    "                           gate=gate\n",
    "                          )\n",
    "        self.self_attn_maps.append(w)\n",
    "        return self.dropout1(x), l0, sparsity\n",
    "    \n",
    "    def _mha_block(self, x: Tensor, mem: Tensor,\n",
    "                   attn_mask: Optional[Tensor], key_padding_mask: Optional[Tensor]\n",
    "                  ) -> Tensor:\n",
    "        gate, l0, sparsity = self.gate2()\n",
    "        x, w = self.multihead_attn(x, mem, mem, \n",
    "                                   attn_mask=attn_mask, \n",
    "                                   key_padding_mask=key_padding_mask,\n",
    "                                   average_attn_weights=False,\n",
    "                                   gate=gate\n",
    "                                  )\n",
    "        self.multi_attn_maps.append(w)\n",
    "        return self.dropout2(x), l0, sparsity\n",
    "    \n",
    "    def _ff_block(self, x: Tensor) -> Tensor:\n",
    "        x = self.linear2(self.dropout(self.activation(self.linear1(x))))\n",
    "        return self.dropout3(x)"
   ]
  },
  {
   "cell_type": "markdown",
   "id": "56ba3912",
   "metadata": {},
   "source": [
    "上で宣言したクラスを積層するためのクラス"
   ]
  },
  {
   "cell_type": "code",
   "execution_count": 8,
   "id": "540b7f37",
   "metadata": {},
   "outputs": [],
   "source": [
    "class TransformerEncoder(nn.Module):\n",
    "    __constants__ = ['norm']\n",
    "    def __init__(self, encoder_layer, num_layers, norm=None):\n",
    "        super(TransformerEncoder, self).__init__()\n",
    "        self.layers = nn.modules.transformer._get_clones(encoder_layer, num_layers)\n",
    "        self.num_layers = num_layers\n",
    "        self.norm = norm\n",
    "        \n",
    "    def forward(self, src: Tensor, mask: Optional[Tensor]=None, src_key_padding_mask: Optional[Tensor]=None):\n",
    "        output = src\n",
    "        l0_loss = 0.0\n",
    "        sparsity = []\n",
    "        \n",
    "        for mod in self.layers:\n",
    "            output, l0, s = mod(output, src_mask=mask, src_key_padding_mask=src_key_padding_mask)\n",
    "            l0_loss = l0_loss + l0\n",
    "            sparsity.append(s)\n",
    "        \n",
    "        if self.norm is not None:\n",
    "            output = self.norm(output)\n",
    "        \n",
    "        return output, l0_loss, sparsity\n",
    "\n",
    "class TransformerDecoder(nn.Module):\n",
    "    __constants__ = ['norm']\n",
    "    \n",
    "    def __init__(self, decoder_layer, num_layers, norm=None):\n",
    "        super(TransformerDecoder, self).__init__()\n",
    "        self.layers = nn.modules.transformer._get_clones(decoder_layer, num_layers)\n",
    "        self.num_layers = num_layers\n",
    "        self.norm = norm\n",
    "    \n",
    "    def forward(self, tgt: Tensor, memory: Tensor, \n",
    "                tgt_mask: Optional[Tensor]=None,\n",
    "                memory_mask: Optional[Tensor]=None, tgt_key_padding_mask: Optional[Tensor]=None,\n",
    "                memory_key_padding_mask: Optional[Tensor]=None\n",
    "               ):\n",
    "        \n",
    "        output = tgt\n",
    "        l0_loss = 0.0\n",
    "        sparsity = []\n",
    "        \n",
    "        for mod in self.layers:\n",
    "            output, l0, s = mod(output, memory, tgt_mask=tgt_mask,\n",
    "                         memory_mask=memory_mask,\n",
    "                         tgt_key_padding_mask=tgt_key_padding_mask,\n",
    "                         memory_key_padding_mask=memory_key_padding_mask)\n",
    "            l0_loss = l0_loss + l0\n",
    "            sparsity.append(s)\n",
    "        \n",
    "        if self.norm is not None:\n",
    "            output = self.norm(output)\n",
    "        \n",
    "        return output, l0_loss, sparsity"
   ]
  },
  {
   "cell_type": "code",
   "execution_count": 9,
   "id": "107515f2",
   "metadata": {},
   "outputs": [],
   "source": [
    "class Encoder(nn.Module): \n",
    "    def __init__(self, vocab_size_src: int, d_model: int = 512, nhead: int = 8, num_encoder_layers: int = 6,\n",
    "                 num_decoder_layers: int = 6, dim_feedforward: int = 2048, dropout: float = 0.1,\n",
    "                 activation: Union[str, Callable[[Tensor], Tensor]] = F.relu,\n",
    "                 custom_encoder: Optional[Any] = None,\n",
    "                 layer_norm_eps: float = 1e-5, batch_first: bool = False, norm_first: bool = False,\n",
    "                 device=None, dtype=None):\n",
    "        factory_kwargs = {'device': device, 'dtype': dtype}\n",
    "        super(Encoder, self).__init__()\n",
    "        \n",
    "        self.token_embedding_src = TokenEmbedding(vocab_size_src, d_model)\n",
    "        self.positional_encoding = PositionalEncoding(d_model, dropout=dropout)\n",
    "        \n",
    "        if custom_encoder is not None:\n",
    "            self.encoder = custom_encoder\n",
    "        else:\n",
    "            encoder_layer = TransformerEncoderLayer(d_model, nhead, dim_feedforward, dropout,\n",
    "                                                    activation, layer_norm_eps, batch_first, norm_first,\n",
    "                                                    **factory_kwargs)\n",
    "        encoder_norm = nn.LayerNorm(d_model, eps=layer_norm_eps, **factory_kwargs)\n",
    "        self.encoder = TransformerEncoder(encoder_layer, num_encoder_layers, encoder_norm)\n",
    "        self._reset_parameters()\n",
    "        \n",
    "        self.d_model = d_model\n",
    "        self.nhead = nhead\n",
    "\n",
    "        self.batch_first = batch_first\n",
    "    \n",
    "    def forward(self, src: Tensor, src_mask: Optional[Tensor] = None, src_key_padding_mask: Optional[Tensor]=None):\n",
    "        embedding_src = self.positional_encoding(self.token_embedding_src(src))\n",
    "        memory, l0, sparsity = self.encoder(embedding_src, mask=src_mask, src_key_padding_mask=src_key_padding_mask)\n",
    "        \n",
    "        return memory, l0, sparsity\n",
    "        \n",
    "    def _reset_parameters(self):\n",
    "        for p in self.parameters():\n",
    "            if p.dim() > 1:\n",
    "                nn.init.xavier_uniform_(p)\n",
    "                \n",
    "class Decoder(nn.Module):\n",
    "    def __init__(self, vocab_size_tgt: int, d_model: int = 512, nhead: int = 8, num_encoder_layers: int = 6,\n",
    "                 num_decoder_layers: int = 6, dim_feedforward: int = 2048, dropout: float = 0.1,\n",
    "                 activation: Union[str, Callable[[Tensor], Tensor]] = F.relu,\n",
    "                 custom_decoder: Optional[Any] = None,\n",
    "                 layer_norm_eps: float = 1e-5, batch_first: bool = False, norm_first: bool = False,\n",
    "                 device=None, dtype=None):\n",
    "        \n",
    "        factory_kwargs = {'device': device, 'dtype': dtype}\n",
    "        super(Decoder, self).__init__()\n",
    "        \n",
    "        self.token_embedding_tgt = TokenEmbedding(vocab_size_tgt, d_model)\n",
    "        self.positional_encoding = PositionalEncoding(d_model, dropout=dropout)\n",
    "        \n",
    "        if custom_decoder is not None:\n",
    "            self.decoder = custom_decoder\n",
    "        else:\n",
    "            decoder_layer = TransformerDecoderLayer(d_model, nhead, dim_feedforward, dropout,\n",
    "                                                    activation, layer_norm_eps, batch_first, norm_first,\n",
    "                                                    **factory_kwargs)\n",
    "            \n",
    "        decoder_norm = nn.LayerNorm(d_model, eps=layer_norm_eps, **factory_kwargs)\n",
    "        self.decoder = TransformerDecoder(decoder_layer, num_decoder_layers, decoder_norm)\n",
    "        self._reset_parameters()\n",
    "\n",
    "        self.d_model = d_model\n",
    "        self.nhead = nhead\n",
    "\n",
    "        self.batch_first = batch_first\n",
    "    \n",
    "    def forward(self, memory: Tensor, tgt: Tensor, tgt_mask: Optional[Tensor]=None,\n",
    "                memory_mask: Optional[Tensor]=None,\n",
    "                tgt_key_padding_mask: Optional[Tensor]=None, memory_key_padding_mask: Optional[Tensor]=None):\n",
    "        \n",
    "        embedding_tgt = self.positional_encoding(self.token_embedding_tgt(tgt))\n",
    "        output, l0, sparsity = self.decoder(embedding_tgt, memory, tgt_mask=tgt_mask, memory_mask=memory_mask,\n",
    "                              tgt_key_padding_mask=tgt_key_padding_mask,\n",
    "                              memory_key_padding_mask=memory_key_padding_mask)\n",
    "        \n",
    "        return output, l0, sparsity\n",
    "    \n",
    "    def _reset_parameters(self):\n",
    "        for p in self.parameters():\n",
    "            if p.dim() > 1:\n",
    "                nn.init.xavier_uniform_(p)"
   ]
  },
  {
   "cell_type": "markdown",
   "id": "427700ea",
   "metadata": {},
   "source": [
    "Decoder の最終層の出力を受け取る Linear 層"
   ]
  },
  {
   "cell_type": "code",
   "execution_count": 10,
   "id": "08860082",
   "metadata": {},
   "outputs": [],
   "source": [
    "class Transformer_Linear(nn.Module):\n",
    "    def __init__(self, embedding_size, vocab_size_tgt):\n",
    "        super(Transformer_Linear, self).__init__()\n",
    "        self.output = nn.Linear(embedding_size, vocab_size_tgt)\n",
    "        \n",
    "    def forward(self, outs):\n",
    "        return self.output(outs)"
   ]
  },
  {
   "cell_type": "markdown",
   "id": "98900e38",
   "metadata": {},
   "source": [
    "embedding_size は各単語の次元数\n",
    "- Transformer の次元数と同じ値\n",
    "\n",
    "vocab_size_src\n",
    "- 翻訳される前の文章の言語の単語数\n",
    "vocab_size_tgt\n",
    "- 翻訳された後の文章の言語の単語数"
   ]
  },
  {
   "cell_type": "code",
   "execution_count": 11,
   "id": "10b285d8",
   "metadata": {
    "scrolled": true
   },
   "outputs": [
    {
     "name": "stdout",
     "output_type": "stream",
     "text": [
      "src vocab size:  1817025\n",
      "tgt vocab size:  769754\n"
     ]
    }
   ],
   "source": [
    "embedding_size = 512\n",
    "\n",
    "vocab_size_src = len(vocab_de)\n",
    "vocab_size_tgt = len(vocab_en)\n",
    "\n",
    "print('src vocab size: ', vocab_size_src)\n",
    "print('tgt vocab size: ', vocab_size_tgt)"
   ]
  },
  {
   "cell_type": "markdown",
   "id": "d2160774",
   "metadata": {},
   "source": [
    "now_lambda\n",
    "- 正弦波の 0 ~ $\\frac{\\pi}{2}$ で徐々に値を増加 "
   ]
  },
  {
   "cell_type": "code",
   "execution_count": 12,
   "id": "7ee6d3de",
   "metadata": {},
   "outputs": [],
   "source": [
    "def now_lambda(i, max_iter=10000, max_lambda=0.5):\n",
    "    i_ = i if i <= max_iter else max_iter\n",
    "    return max_lambda * math.sin(math.pi*i_/(max_iter*2))"
   ]
  },
  {
   "cell_type": "markdown",
   "id": "d0e7c264",
   "metadata": {},
   "source": [
    "学習用の関数\n",
    "- $\\lambda$ の値を変更することで調整"
   ]
  },
  {
   "cell_type": "code",
   "execution_count": 13,
   "id": "ed57f266",
   "metadata": {},
   "outputs": [],
   "source": [
    "def train(enc, dec, fc, save_path, _lambda=None, max_iter=10000, interval=10, enc_device=0, dec_device=1, fc_device=2):\n",
    "\n",
    "    \n",
    "    val_loss_list = []\n",
    "    best_loss = float('inf')\n",
    "    loss_list = []\n",
    "    \n",
    "    enc_gate = []\n",
    "    dec_gate = []\n",
    "\n",
    "    with tqdm(train_loader) as pbar:\n",
    "        for i, (src, tgt) in enumerate(pbar):\n",
    "            if i == max_iter:\n",
    "                break\n",
    "        \n",
    "            if _lambda == None:\n",
    "                lambda_ = now_lambda(i)\n",
    "            else:\n",
    "                lambda_ = _lambda\n",
    "        \n",
    "            enc.train()\n",
    "            dec.train()\n",
    "            fc.train()\n",
    "    \n",
    "            input_tgt = tgt[:-1, :]\n",
    "            mask_src, mask_tgt, padding_mask_src, padding_mask_tgt = create_mask(src, input_tgt, PAD_IDX)\n",
    "        \n",
    "            src = src.cuda(enc_device)\n",
    "            mask_src = mask_src.cuda(enc_device)\n",
    "            padding_mask_src = padding_mask_src.cuda(enc_device)\n",
    "            memory, L0_loss_enc, enc_sparsity = enc(src, mask_src, padding_mask_src)\n",
    "            enc_gate.append(enc_sparsity)\n",
    "    \n",
    "            memory = memory.cuda(dec_device)\n",
    "            mask_tgt = mask_tgt.cuda(dec_device)\n",
    "            padding_mask_tgt = padding_mask_tgt.cuda(dec_device)\n",
    "            padding_mask_src = padding_mask_src.cuda(dec_device)\n",
    "            input_tgt = tgt[:-1, :].cuda(dec_device)\n",
    "            outs, L0_loss_dec, dec_sparsity = dec(memory, input_tgt, tgt_mask=mask_tgt, \n",
    "                                                  tgt_key_padding_mask=padding_mask_tgt, \n",
    "                                                  memory_key_padding_mask=padding_mask_src)\n",
    "            dec_gate.append(dec_sparsity)\n",
    "    \n",
    "            outs = outs.cuda(fc_device)\n",
    "            logits = fc(outs)\n",
    "    \n",
    "            optimizer.zero_grad()\n",
    "            output_tgt_ = tgt[1:, :].cuda(fc_device)\n",
    "            loss = criterion(logits.reshape(-1, logits.shape[-1]), output_tgt_.reshape(-1)) + lambda_ * (L0_loss_enc.cuda(fc_device) + L0_loss_dec.cuda(fc_device))\n",
    "            loss.backward()\n",
    "    \n",
    "            optimizer.step()\n",
    "            loss_list.append(loss.item())\n",
    "    \n",
    "            if i % interval == 0:\n",
    "                enc.eval()\n",
    "                dec.eval()\n",
    "                fc.eval()\n",
    "                v_loss = 0\n",
    "                \n",
    "                with torch.no_grad():\n",
    "                    for src_, tgt_ in valid_loader:\n",
    "                        input_tgt_ = tgt_[:-1, :]\n",
    "                        mask_src_, mask_tgt_, padding_mask_src_, padding_mask_tgt_ = create_mask(src_, input_tgt_, PAD_IDX)\n",
    "                        \n",
    "                        src_ = src_.cuda(enc_device)\n",
    "                        mask_src_ = mask_src_.cuda(enc_device)\n",
    "                        padding_mask_src_ = padding_mask_src_.cuda(enc_device)\n",
    "                        memory_, L0_loss_enc_, _ = enc(src_, mask_src_, padding_mask_src_)\n",
    "            \n",
    "                        memory_ = memory_.cuda(dec_device)\n",
    "                        mask_tgt_ = mask_tgt_.cuda(dec_device)\n",
    "                        padding_mask_tgt_ = padding_mask_tgt_.cuda(dec_device)\n",
    "                        padding_mask_src_ = padding_mask_src_.cuda(dec_device)\n",
    "                        input_tgt_ = tgt_[:-1, :].cuda(dec_device)\n",
    "                        outs_, L0_loss_dec_, _ = dec(memory_, input_tgt_, tgt_mask=mask_tgt_, \n",
    "                                                     tgt_key_padding_mask=padding_mask_tgt_, \n",
    "                                                     memory_key_padding_mask=padding_mask_src_)\n",
    "            \n",
    "                        outs_ = outs_.cuda(fc_device)\n",
    "                        logits_ = fc(outs_)\n",
    "            \n",
    "                        output_tgt_ = tgt_[1:, :].cuda(fc_device)\n",
    "                        loss_ = criterion(logits_.reshape(-1, logits_.shape[-1]), output_tgt_.reshape(-1))\n",
    "                        v_loss += loss_.item()\n",
    "                \n",
    "                    v_loss = v_loss / len(valid_loader)\n",
    "                    val_loss_list.append(v_loss)\n",
    "        \n",
    "                    if best_loss > v_loss:\n",
    "                        best_loss = v_loss\n",
    "            \n",
    "                        torch.save(enc.state_dict(), save_path+'_Enc.pth')\n",
    "                        torch.save(dec.state_dict(), save_path+'_Dec.pth')\n",
    "                        torch.save(fc.state_dict(), save_path+'_Fc.pth')\n",
    "                \n",
    "            pbar.set_postfix({\"best_loss\": best_loss, 'now_loss':v_loss})\n",
    "\n",
    "    return loss_list, val_loss_list, enc_gate, dec_gate"
   ]
  },
  {
   "cell_type": "markdown",
   "id": "dc781d88",
   "metadata": {},
   "source": [
    "学習結果をプロットします"
   ]
  },
  {
   "cell_type": "code",
   "execution_count": 26,
   "id": "3cecd640",
   "metadata": {},
   "outputs": [],
   "source": [
    "def Plotter(train_loss, valid_loss, enc_gate, dec_gate):\n",
    "    x1 = np.array([i for i in range(len(train_loss))])\n",
    "    x2 = np.array([i for i in range(len(valid_loss))]) * 10.0\n",
    "    \n",
    "    plt.plot(x1, train_loss, label='Train', color='red')\n",
    "    plt.plot(x2, valid_loss, label='Valid', color='blue')\n",
    "    plt.xlabel('Iterations')\n",
    "    plt.ylabel('Loss')\n",
    "    plt.legend()\n",
    "    plt.show()\n",
    "    \n",
    "    enc_sparsity = []\n",
    "    dec_sparsity1 = []\n",
    "    dec_sparsity2 = []\n",
    "    \n",
    "    for i in range(len(enc_gate)):\n",
    "        e = 0\n",
    "        d1 = 0\n",
    "        d2 = 0\n",
    "        for layer in range(len(enc_gate[0])):\n",
    "            e += (enc_gate[i][layer][1] - enc_gate[i][layer][0])/enc_gate[i][layer][1]\n",
    "            d1 += (dec_gate[i][layer][0][1] - dec_gate[i][layer][0][0]) / dec_gate[i][layer][0][1]\n",
    "            d2 += (dec_gate[i][layer][1][1] - dec_gate[i][layer][1][0]) / dec_gate[i][layer][1][1]\n",
    "        enc_sparsity.append(e / 8)\n",
    "        dec_sparsity1.append(d1 / 8)\n",
    "        dec_sparsity2.append(d2 / 8)\n",
    "        \n",
    "    enc_sparsity = np.array(enc_sparsity)\n",
    "    dec_sparsity1 = np.array(dec_sparsity1)\n",
    "    dec_sparsity2 = np.array(dec_sparsity2)\n",
    "    \n",
    "    plt.plot(x1, enc_sparsity, label='enc-sa', color='red')\n",
    "    plt.plot(x1, dec_sparsity1, label='dec-sa', color='blue')\n",
    "    plt.plot(x1, dec_sparsity2, label='dec-mha', color='green')\n",
    "    plt.xlabel('Iterations')\n",
    "    plt.ylabel('Sparsity')\n",
    "    plt.legend()\n",
    "    plt.show()\n",
    "    \n",
    "    all_sparsity = enc_sparsity + dec_sparsity1 + dec_sparsity2\n",
    "    all_sparsity /= 3.0\n",
    "    plt.plot(x1, all_sparsity, color='red')\n",
    "    plt.xlabel('Iterations')\n",
    "    plt.ylabel('Sparsity')\n",
    "    plt.show()"
   ]
  },
  {
   "cell_type": "markdown",
   "id": "2b4b210b",
   "metadata": {},
   "source": [
    "enc_device\n",
    "- encoder を載せる GPU の指定\n",
    "dec_device\n",
    "- decoder を載せる GPU の指定\n",
    "fc_device\n",
    "- fc を載せる GPU の指定"
   ]
  },
  {
   "cell_type": "code",
   "execution_count": 14,
   "id": "d1028c4a",
   "metadata": {},
   "outputs": [],
   "source": [
    "enc_device = 0\n",
    "dec_device = 1\n",
    "fc_device = 2\n",
    "\n",
    "criterion = nn.CrossEntropyLoss(ignore_index=PAD_IDX)"
   ]
  },
  {
   "cell_type": "markdown",
   "id": "b49b5f1f",
   "metadata": {},
   "source": [
    "最初だけ初期値を保存します\n",
    "- ここ以降の学習では，保存した初期値を読み込みます"
   ]
  },
  {
   "cell_type": "code",
   "execution_count": 15,
   "id": "98dc82de",
   "metadata": {},
   "outputs": [],
   "source": [
    "enc = Encoder(vocab_size_src, d_model=embedding_size).cuda(enc_device)\n",
    "dec = Decoder(vocab_size_tgt, d_model=embedding_size).cuda(dec_device)\n",
    "fc = Transformer_Linear(embedding_size, vocab_size_tgt).cuda(fc_device)\n",
    "\n",
    "torch.save(enc.state_dict(), '../Models/Enc_init.pth')\n",
    "torch.save(dec.state_dict(), '../Models/Dec_init.pth')\n",
    "torch.save(fc.state_dict(), '../Models/Fc_init.pth')\n",
    "\n",
    "max_iter = 10000\n",
    "interval = 10\n",
    "optimizer = torch.optim.Adam([{'params': enc.parameters()},{'params': dec.parameters()},{'params': fc.parameters()}])"
   ]
  },
  {
   "cell_type": "markdown",
   "id": "918bf1c5",
   "metadata": {},
   "source": [
    "$\\lambda=0.0$"
   ]
  },
  {
   "cell_type": "code",
   "execution_count": 16,
   "id": "a830c38d",
   "metadata": {
    "scrolled": true
   },
   "outputs": [
    {
     "name": "stderr",
     "output_type": "stream",
     "text": [
      "  4%|▍         | 10000/260320 [4:18:08<107:41:42,  1.55s/it, best_loss=7.58, now_loss=9.5] \n"
     ]
    }
   ],
   "source": [
    "train_loss, valid_loss, enc_gate, dec_gate = train(enc, dec, fc, '../Models/BaseLine', _lambda=0.0, \n",
    "                                                              max_iter=max_iter, interval=interval,\n",
    "                                                              enc_device=enc_device, dec_device=dec_device, fc_device=fc_device\n",
    "                                                             )"
   ]
  },
  {
   "cell_type": "code",
   "execution_count": 41,
   "id": "517e3143",
   "metadata": {
    "scrolled": true
   },
   "outputs": [
    {
     "data": {
      "image/png": "[encoded data removed]",
      "text/plain": [
       "<Figure size 432x288 with 1 Axes>"
      ]
     },
     "metadata": {
      "needs_background": "light"
     },
     "output_type": "display_data"
    },
    {
     "data": {
      "image/png": "[encoded data removed]",
      "text/plain": [
       "<Figure size 432x288 with 1 Axes>"
      ]
     },
     "metadata": {
      "needs_background": "light"
     },
     "output_type": "display_data"
    },
    {
     "data": {
      "image/png": "[encoded data removed]",
      "text/plain": [
       "<Figure size 432x288 with 1 Axes>"
      ]
     },
     "metadata": {
      "needs_background": "light"
     },
     "output_type": "display_data"
    }
   ],
   "source": [
    "Plotter(train_loss, valid_loss, enc_gate, dec_gate)"
   ]
  },
  {
   "cell_type": "code",
   "execution_count": 42,
   "id": "d61a910f",
   "metadata": {},
   "outputs": [],
   "source": [
    "enc = Encoder(vocab_size_src, d_model=embedding_size).cuda(enc_device)\n",
    "dec = Decoder(vocab_size_tgt, d_model=embedding_size).cuda(dec_device)\n",
    "fc = Transformer_Linear(embedding_size, vocab_size_tgt).cuda(fc_device)\n",
    "\n",
    "enc.load_state_dict(torch.load('../Models/Enc_init.pth'))\n",
    "dec.load_state_dict(torch.load('../Models/Dec_init.pth'))\n",
    "fc.load_state_dict(torch.load('../Models/Fc_init.pth'))\n",
    "\n",
    "max_iter = 10000\n",
    "interval = 10\n",
    "optimizer = torch.optim.Adam([{'params': enc.parameters()},{'params': dec.parameters()},{'params': fc.parameters()}])"
   ]
  },
  {
   "cell_type": "markdown",
   "id": "6e2f6e08",
   "metadata": {},
   "source": [
    "$\\lambda=0.1$"
   ]
  },
  {
   "cell_type": "code",
   "execution_count": 43,
   "id": "b0b29127",
   "metadata": {},
   "outputs": [
    {
     "name": "stderr",
     "output_type": "stream",
     "text": [
      "  4%|▍         | 10000/260320 [5:04:13<126:55:31,  1.83s/it, best_loss=7.48, now_loss=7.49]\n"
     ]
    }
   ],
   "source": [
    "train_loss, valid_loss, enc_gate, dec_gate = train(enc, dec, fc, '../Models/BaseLine.01', _lambda=0.1, \n",
    "                                                              max_iter=max_iter, interval=interval,\n",
    "                                                              enc_device=enc_device, dec_device=dec_device, fc_device=fc_device\n",
    "                                                             )"
   ]
  },
  {
   "cell_type": "code",
   "execution_count": 44,
   "id": "52f8d417",
   "metadata": {},
   "outputs": [
    {
     "data": {
      "image/png": "[encoded data removed]",
      "text/plain": [
       "<Figure size 432x288 with 1 Axes>"
      ]
     },
     "metadata": {
      "needs_background": "light"
     },
     "output_type": "display_data"
    },
    {
     "data": {
      "image/png": "[encoded data removed]",
      "text/plain": [
       "<Figure size 432x288 with 1 Axes>"
      ]
     },
     "metadata": {
      "needs_background": "light"
     },
     "output_type": "display_data"
    },
    {
     "data": {
      "image/png": "[encoded data removed]",
      "text/plain": [
       "<Figure size 432x288 with 1 Axes>"
      ]
     },
     "metadata": {
      "needs_background": "light"
     },
     "output_type": "display_data"
    }
   ],
   "source": [
    "Plotter(train_loss, valid_loss, enc_gate, dec_gate)"
   ]
  },
  {
   "cell_type": "markdown",
   "id": "f2db7879",
   "metadata": {},
   "source": [
    "初期値を読み込む"
   ]
  },
  {
   "cell_type": "code",
   "execution_count": 51,
   "id": "71eabff0",
   "metadata": {},
   "outputs": [],
   "source": [
    "enc = Encoder(vocab_size_src, d_model=embedding_size).cuda(enc_device)\n",
    "dec = Decoder(vocab_size_tgt, d_model=embedding_size).cuda(dec_device)\n",
    "fc = Transformer_Linear(embedding_size, vocab_size_tgt).cuda(fc_device)\n",
    "\n",
    "enc.load_state_dict(torch.load('../Models/Enc_init.pth'))\n",
    "dec.load_state_dict(torch.load('../Models/Dec_init.pth'))\n",
    "fc.load_state_dict(torch.load('../Models/Fc_init.pth'))\n",
    "\n",
    "max_iter = 10000\n",
    "interval = 10\n",
    "optimizer = torch.optim.Adam([{'params': enc.parameters()},{'params': dec.parameters()},{'params': fc.parameters()}])"
   ]
  },
  {
   "cell_type": "markdown",
   "id": "cc433761",
   "metadata": {},
   "source": [
    "$\\lambda=0.2$"
   ]
  },
  {
   "cell_type": "code",
   "execution_count": 52,
   "id": "dd4ec398",
   "metadata": {},
   "outputs": [
    {
     "name": "stderr",
     "output_type": "stream",
     "text": [
      "  4%|▍         | 10000/260320 [4:45:33<119:08:08,  1.71s/it, best_loss=7.43, now_loss=7.48]\n"
     ]
    }
   ],
   "source": [
    "train_loss, valid_loss, enc_gate, dec_gate = train(enc, dec, fc, '../Models/BaseLine.02', _lambda=0.2, \n",
    "                                                              max_iter=max_iter, interval=interval,\n",
    "                                                              enc_device=enc_device, dec_device=dec_device, fc_device=fc_device\n",
    "                                                             )"
   ]
  },
  {
   "cell_type": "code",
   "execution_count": 53,
   "id": "59585f57",
   "metadata": {},
   "outputs": [
    {
     "data": {
      "image/png": "[encoded data removed]",
      "text/plain": [
       "<Figure size 432x288 with 1 Axes>"
      ]
     },
     "metadata": {
      "needs_background": "light"
     },
     "output_type": "display_data"
    },
    {
     "data": {
      "image/png": "[encoded data removed]",
      "text/plain": [
       "<Figure size 432x288 with 1 Axes>"
      ]
     },
     "metadata": {
      "needs_background": "light"
     },
     "output_type": "display_data"
    },
    {
     "data": {
      "image/png": "[encoded data removed]",
      "text/plain": [
       "<Figure size 432x288 with 1 Axes>"
      ]
     },
     "metadata": {
      "needs_background": "light"
     },
     "output_type": "display_data"
    }
   ],
   "source": [
    "Plotter(train_loss, valid_loss, enc_gate, dec_gate)"
   ]
  },
  {
   "cell_type": "markdown",
   "id": "32853e3a",
   "metadata": {},
   "source": [
    "初期値を読み込む"
   ]
  },
  {
   "cell_type": "code",
   "execution_count": 54,
   "id": "147eb413",
   "metadata": {},
   "outputs": [],
   "source": [
    "enc.load_state_dict(torch.load('../Models/Enc_init.pth'))\n",
    "dec.load_state_dict(torch.load('../Models/Dec_init.pth'))\n",
    "fc.load_state_dict(torch.load('../Models/Fc_init.pth'))\n",
    "\n",
    "max_iter = 10000\n",
    "interval = 10\n",
    "optimizer = torch.optim.Adam([{'params': enc.parameters()},{'params': dec.parameters()},{'params': fc.parameters()}])"
   ]
  },
  {
   "cell_type": "markdown",
   "id": "0d39df90",
   "metadata": {},
   "source": [
    "$\\lambda=0.3$"
   ]
  },
  {
   "cell_type": "code",
   "execution_count": 55,
   "id": "f0793f5f",
   "metadata": {},
   "outputs": [
    {
     "name": "stderr",
     "output_type": "stream",
     "text": [
      "  4%|▍         | 10000/260320 [4:35:16<114:50:39,  1.65s/it, best_loss=7.44, now_loss=7.45]\n"
     ]
    }
   ],
   "source": [
    "train_loss, valid_loss, enc_gate, dec_gate = train(enc, dec, fc, '../Models/BaseLine.03', _lambda=0.3, \n",
    "                                                              max_iter=max_iter, interval=interval,\n",
    "                                                              enc_device=enc_device, dec_device=dec_device, fc_device=fc_device\n",
    "                                                             )"
   ]
  },
  {
   "cell_type": "code",
   "execution_count": 56,
   "id": "1ee7b5ed",
   "metadata": {},
   "outputs": [
    {
     "data": {
      "image/png": "[encoded data removed]",
      "text/plain": [
       "<Figure size 432x288 with 1 Axes>"
      ]
     },
     "metadata": {
      "needs_background": "light"
     },
     "output_type": "display_data"
    },
    {
     "data": {
      "image/png": "[encoded data removed]",
      "text/plain": [
       "<Figure size 432x288 with 1 Axes>"
      ]
     },
     "metadata": {
      "needs_background": "light"
     },
     "output_type": "display_data"
    },
    {
     "data": {
      "image/png": "[encoded data removed]",
      "text/plain": [
       "<Figure size 432x288 with 1 Axes>"
      ]
     },
     "metadata": {
      "needs_background": "light"
     },
     "output_type": "display_data"
    }
   ],
   "source": [
    "Plotter(train_loss, valid_loss, enc_gate, dec_gate)"
   ]
  },
  {
   "cell_type": "markdown",
   "id": "146d9f25",
   "metadata": {},
   "source": [
    "初期値を読み込む"
   ]
  },
  {
   "cell_type": "code",
   "execution_count": 57,
   "id": "85f30e74",
   "metadata": {},
   "outputs": [],
   "source": [
    "enc.load_state_dict(torch.load('../Models/Enc_init.pth'))\n",
    "dec.load_state_dict(torch.load('../Models/Dec_init.pth'))\n",
    "fc.load_state_dict(torch.load('../Models/Fc_init.pth'))\n",
    "\n",
    "max_iter = 10000\n",
    "interval = 10\n",
    "optimizer = torch.optim.Adam([{'params': enc.parameters()},{'params': dec.parameters()},{'params': fc.parameters()}])"
   ]
  },
  {
   "cell_type": "markdown",
   "id": "85b9cfd3",
   "metadata": {},
   "source": [
    "$\\lambda$ 正弦波で増加"
   ]
  },
  {
   "cell_type": "code",
   "execution_count": 58,
   "id": "b55fc7cc",
   "metadata": {},
   "outputs": [
    {
     "name": "stderr",
     "output_type": "stream",
     "text": [
      "  4%|▍         | 10000/260320 [4:36:08<115:12:34,  1.66s/it, best_loss=7.45, now_loss=7.47]\n"
     ]
    },
    {
     "data": {
      "image/png": "[encoded data removed]",
      "text/plain": [
       "<Figure size 432x288 with 1 Axes>"
      ]
     },
     "metadata": {
      "needs_background": "light"
     },
     "output_type": "display_data"
    },
    {
     "data": {
      "image/png": "[encoded data removed]",
      "text/plain": [
       "<Figure size 432x288 with 1 Axes>"
      ]
     },
     "metadata": {
      "needs_background": "light"
     },
     "output_type": "display_data"
    },
    {
     "data": {
      "image/png": "[encoded data removed]",
      "text/plain": [
       "<Figure size 432x288 with 1 Axes>"
      ]
     },
     "metadata": {
      "needs_background": "light"
     },
     "output_type": "display_data"
    }
   ],
   "source": [
    "train_loss, valid_loss, enc_gate, dec_gate = train(enc, dec, fc, '../Models/BaseLine.sin10000', _lambda=None, \n",
    "                                                              max_iter=max_iter, interval=interval,\n",
    "                                                              enc_device=enc_device, dec_device=dec_device, fc_device=fc_device\n",
    "                                                             )\n",
    "\n",
    "Plotter(train_loss, valid_loss, enc_gate, dec_gate)"
   ]
  }
 ],
 "metadata": {
  "kernelspec": {
   "display_name": "Python 3 (ipykernel)",
   "language": "python",
   "name": "python3"
  },
  "language_info": {
   "codemirror_mode": {
    "name": "ipython",
    "version": 3
   },
   "file_extension": ".py",
   "mimetype": "text/x-python",
   "name": "python",
   "nbconvert_exporter": "python",
   "pygments_lexer": "ipython3",
   "version": "3.8.10"
  }
 },
 "nbformat": 4,
 "nbformat_minor": 5
}
